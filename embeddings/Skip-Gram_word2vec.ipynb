{
 "cells": [
  {
   "cell_type": "markdown",
   "metadata": {},
   "source": [
    "# Skip-gram word2vec\n",
    "\n",
    "In this notebook, I'll lead you through using TensorFlow to implement the word2vec algorithm using the skip-gram architecture. By implementing this, you'll learn about embedding words for use in natural language processing. This will come in handy when dealing with things like machine translation.\n",
    "\n",
    "## Readings\n",
    "\n",
    "Here are the resources I used to build this notebook. I suggest reading these either beforehand or while you're working on this material.\n",
    "\n",
    "* A really good [conceptual overview](http://mccormickml.com/2016/04/19/word2vec-tutorial-the-skip-gram-model/) of word2vec from Chris McCormick \n",
    "* [First word2vec paper](https://arxiv.org/pdf/1301.3781.pdf) from Mikolov et al.\n",
    "* [NIPS paper](http://papers.nips.cc/paper/5021-distributed-representations-of-words-and-phrases-and-their-compositionality.pdf) with improvements for word2vec also from Mikolov et al.\n",
    "* An [implementation of word2vec](http://www.thushv.com/natural_language_processing/word2vec-part-1-nlp-with-deep-learning-with-tensorflow-skip-gram/) from Thushan Ganegedara\n",
    "* TensorFlow [word2vec tutorial](https://www.tensorflow.org/tutorials/word2vec)\n",
    "\n",
    "## Word embeddings\n",
    "\n",
    "When you're dealing with words in text, you end up with tens of thousands of classes to predict, one for each word. Trying to one-hot encode these words is massively inefficient, you'll have one element set to 1 and the other 50,000 set to 0. The matrix multiplication going into the first hidden layer will have almost all of the resulting values be zero. This a huge waste of computation. \n",
    "\n",
    "![one-hot encodings](assets/one_hot_encoding.png)\n",
    "\n",
    "To solve this problem and greatly increase the efficiency of our networks, we use what are called embeddings. Embeddings are just a fully connected layer like you've seen before. We call this layer the embedding layer and the weights are embedding weights. We skip the multiplication into the embedding layer by instead directly grabbing the hidden layer values from the weight matrix. We can do this because the multiplication of a one-hot encoded vector with a matrix returns the row of the matrix corresponding the index of the \"on\" input unit.\n",
    "\n",
    "![lookup](assets/lookup_matrix.png)\n",
    "\n",
    "Instead of doing the matrix multiplication, we use the weight matrix as a lookup table. We encode the words as integers, for example \"heart\" is encoded as 958, \"mind\" as 18094. Then to get hidden layer values for \"heart\", you just take the 958th row of the embedding matrix. This process is called an **embedding lookup** and the number of hidden units is the **embedding dimension**.\n",
    "\n",
    "<img src='assets/tokenize_lookup.png' width=500>\n",
    " \n",
    "There is nothing magical going on here. The embedding lookup table is just a weight matrix. The embedding layer is just a hidden layer. The lookup is just a shortcut for the matrix multiplication. The lookup table is trained just like any weight matrix as well.\n",
    "\n",
    "Embeddings aren't only used for words of course. You can use them for any model where you have a massive number of classes. A particular type of model called **Word2Vec** uses the embedding layer to find vector representations of words that contain semantic meaning.\n",
    "\n"
   ]
  },
  {
   "cell_type": "markdown",
   "metadata": {},
   "source": [
    "## Word2Vec\n",
    "\n",
    "The word2vec algorithm finds much more efficient representations by finding vectors that represent the words. These vectors also contain semantic information about the words. Words that show up in similar contexts, such as \"black\", \"white\", and \"red\" will have vectors near each other. There are two architectures for implementing word2vec, CBOW (Continuous Bag-Of-Words) and Skip-gram.\n",
    "\n",
    "<img src=\"assets/word2vec_architectures.png\" width=\"500\">\n",
    "\n",
    "In this implementation, we'll be using the skip-gram architecture because it performs better than CBOW. Here, we pass in a word and try to predict the words surrounding it in the text. In this way, we can train the network to learn representations for words that show up in similar contexts.\n",
    "\n",
    "First up, importing packages."
   ]
  },
  {
   "cell_type": "code",
   "execution_count": 1,
   "metadata": {},
   "outputs": [],
   "source": [
    "import time\n",
    "\n",
    "import numpy as np\n",
    "import tensorflow as tf\n",
    "\n",
    "import utils"
   ]
  },
  {
   "cell_type": "markdown",
   "metadata": {},
   "source": [
    "Load the [text8 dataset](http://mattmahoney.net/dc/textdata.html), a file of cleaned up Wikipedia articles from Matt Mahoney. The next cell will download the data set to the `data` folder. Then you can extract it and delete the archive file to save storage space."
   ]
  },
  {
   "cell_type": "code",
   "execution_count": 2,
   "metadata": {},
   "outputs": [],
   "source": [
    "from urllib.request import urlretrieve\n",
    "from os.path import isfile, isdir\n",
    "from tqdm import tqdm\n",
    "import zipfile\n",
    "\n",
    "dataset_folder_path = 'data'\n",
    "dataset_filename = 'text8.zip'\n",
    "dataset_name = 'Text8 Dataset'\n",
    "\n",
    "class DLProgress(tqdm):\n",
    "    last_block = 0\n",
    "\n",
    "    def hook(self, block_num=1, block_size=1, total_size=None):\n",
    "        self.total = total_size\n",
    "        self.update((block_num - self.last_block) * block_size)\n",
    "        self.last_block = block_num\n",
    "\n",
    "if not isfile(dataset_filename):\n",
    "    with DLProgress(unit='B', unit_scale=True, miniters=1, desc=dataset_name) as pbar:\n",
    "        urlretrieve(\n",
    "            'http://mattmahoney.net/dc/text8.zip',\n",
    "            dataset_filename,\n",
    "            pbar.hook)\n",
    "\n",
    "if not isdir(dataset_folder_path):\n",
    "    with zipfile.ZipFile(dataset_filename) as zip_ref:\n",
    "        zip_ref.extractall(dataset_folder_path)\n",
    "        \n",
    "with open('data/text8') as f:\n",
    "    text = f.read()"
   ]
  },
  {
   "cell_type": "markdown",
   "metadata": {},
   "source": [
    "## Preprocessing\n",
    "\n",
    "Here I'm fixing up the text to make training easier. This comes from the `utils` module I wrote. The `preprocess` function coverts any punctuation into tokens, so a period is changed to ` <PERIOD> `. In this data set, there aren't any periods, but it will help in other NLP problems. I'm also removing all words that show up five or fewer times in the dataset. This will greatly reduce issues due to noise in the data and improve the quality of the vector representations. If you want to write your own functions for this stuff, go for it."
   ]
  },
  {
   "cell_type": "code",
   "execution_count": 3,
   "metadata": {},
   "outputs": [
    {
     "name": "stdout",
     "output_type": "stream",
     "text": [
      "['anarchism', 'originated', 'as', 'a', 'term', 'of', 'abuse', 'first', 'used', 'against', 'early', 'working', 'class', 'radicals', 'including', 'the', 'diggers', 'of', 'the', 'english', 'revolution', 'and', 'the', 'sans', 'culottes', 'of', 'the', 'french', 'revolution', 'whilst']\n"
     ]
    }
   ],
   "source": [
    "words = utils.preprocess(text)\n",
    "print(words[:30])"
   ]
  },
  {
   "cell_type": "code",
   "execution_count": 4,
   "metadata": {},
   "outputs": [
    {
     "name": "stdout",
     "output_type": "stream",
     "text": [
      "Total words: 16680599\n",
      "Unique words: 63641\n"
     ]
    }
   ],
   "source": [
    "print(\"Total words: {}\".format(len(words)))\n",
    "print(\"Unique words: {}\".format(len(set(words))))"
   ]
  },
  {
   "cell_type": "markdown",
   "metadata": {},
   "source": [
    "And here I'm creating dictionaries to convert words to integers and backwards, integers to words. The integers are assigned in descending frequency order, so the most frequent word (\"the\") is given the integer 0 and the next most frequent is 1 and so on. The words are converted to integers and stored in the list `int_words`."
   ]
  },
  {
   "cell_type": "code",
   "execution_count": 5,
   "metadata": {},
   "outputs": [
    {
     "name": "stdout",
     "output_type": "stream",
     "text": [
      "[5236, 3080, 11, 5, 194, 1, 3136, 45, 58, 155, 127, 741, 476, 10608, 133, 0, 27367, 1, 0, 102, 854, 2, 0, 15192, 60490, 1, 0, 150, 854, 3582]\n"
     ]
    }
   ],
   "source": [
    "vocab_to_int, int_to_vocab = utils.create_lookup_tables(words)\n",
    "int_words = [vocab_to_int[word] for word in words]\n",
    "print(int_words[:30])"
   ]
  },
  {
   "cell_type": "markdown",
   "metadata": {},
   "source": [
    "## Subsampling\n",
    "\n",
    "Words that show up often such as \"the\", \"of\", and \"for\" don't provide much context to the nearby words. If we discard some of them, we can remove some of the noise from our data and in return get faster training and better representations. This process is called subsampling by Mikolov. For each word $w_i$ in the training set, we'll discard it with probability given by \n",
    "\n",
    "$$ P(w_i) = 1 - \\sqrt{\\frac{t}{f(w_i)}} $$\n",
    "\n",
    "where $t$ is a threshold parameter and $f(w_i)$ is the frequency of word $w_i$ in the total dataset.\n",
    "\n",
    "I'm going to leave this up to you as an exercise. This is more of a programming challenge, than about deep learning specifically. But, being able to prepare your data for your network is an important skill to have. Check out my solution to see how I did it.\n",
    "\n",
    "> **Exercise:** Implement subsampling for the words in `int_words`. That is, go through `int_words` and discard each word given the probablility $P(w_i)$ shown above. Note that $P(w_i)$ is the probability that a word is discarded. Assign the subsampled data to `train_words`."
   ]
  },
  {
   "cell_type": "code",
   "execution_count": 6,
   "metadata": {},
   "outputs": [],
   "source": [
    "## Your code here\n",
    "from collections import Counter\n",
    "import random\n",
    "\n",
    "threshold = 1e-5\n",
    "word_counts = Counter(int_words)\n",
    "total_counts = len(int_words)\n",
    "freqs = {word: count/total_counts for word,count in word_counts.items()}\n",
    "p_drop = {word:1-np.sqrt(threshold/freqs[word]) for word in word_counts}\n",
    "train_words = [word for word in int_words if random.random() < (1-p_drop[word])]# The final subsampled word list"
   ]
  },
  {
   "cell_type": "code",
   "execution_count": 7,
   "metadata": {},
   "outputs": [
    {
     "name": "stdout",
     "output_type": "stream",
     "text": [
      "[194, 1, 10608, 27367, 854, 15192, 60490, 1, 854, 10767, 1324, 2731, 708, 26, 1423, 5236, 1052, 45279, 2879, 792, 2623, 9017, 279, 31, 6438, 5236, 447, 4873, 6757, 7592]\n"
     ]
    }
   ],
   "source": [
    "print(train_words[:30])"
   ]
  },
  {
   "cell_type": "markdown",
   "metadata": {},
   "source": [
    "## Making batches"
   ]
  },
  {
   "cell_type": "markdown",
   "metadata": {},
   "source": [
    "Now that our data is in good shape, we need to get it into the proper form to pass it into our network. With the skip-gram architecture, for each word in the text, we want to grab all the words in a window around that word, with size $C$. \n",
    "\n",
    "From [Mikolov et al.](https://arxiv.org/pdf/1301.3781.pdf): \n",
    "\n",
    "\"Since the more distant words are usually less related to the current word than those close to it, we give less weight to the distant words by sampling less from those words in our training examples... If we choose $C = 5$, for each training word we will select randomly a number $R$ in range $< 1; C >$, and then use $R$ words from history and $R$ words from the future of the current word as correct labels.\"\n",
    "\n",
    "> **Exercise:** Implement a function `get_target` that receives a list of words, an index, and a window size, then returns a list of words in the window around the index. Make sure to use the algorithm described above, where you choose a random number of words from the window."
   ]
  },
  {
   "cell_type": "code",
   "execution_count": 8,
   "metadata": {},
   "outputs": [],
   "source": [
    "def get_target(words, idx, window_size=5):\n",
    "    ''' Get a list of words in a window around an index. '''\n",
    "    \n",
    "    # Your code here\n",
    "    R = np.random.randint(1,window_size+1)\n",
    "    start = idx - R if idx - R > 0 else 0\n",
    "    stop = idx + R\n",
    "    target_words = set(words[start:idx]+words[idx+1:stop+1])\n",
    "    return list(target_words)"
   ]
  },
  {
   "cell_type": "markdown",
   "metadata": {},
   "source": [
    "Here's a function that returns batches for our network. The idea is that it grabs `batch_size` words from a words list. Then for each of those words, it gets the target words in the window. I haven't found a way to pass in a random number of target words and get it to work with the architecture, so I make one row per input-target pair. This is a generator function by the way, helps save memory."
   ]
  },
  {
   "cell_type": "code",
   "execution_count": 9,
   "metadata": {},
   "outputs": [],
   "source": [
    "def get_batches(words, batch_size, window_size=5):\n",
    "    ''' Create a generator of word batches as a tuple (inputs, targets) '''\n",
    "    \n",
    "    n_batches = len(words)//batch_size\n",
    "    \n",
    "    # only full batches\n",
    "    words = words[:n_batches*batch_size]\n",
    "    \n",
    "    for idx in range(0, len(words), batch_size):\n",
    "        x, y = [], []\n",
    "        batch = words[idx:idx+batch_size]\n",
    "        for ii in range(len(batch)):\n",
    "            batch_x = batch[ii]\n",
    "            batch_y = get_target(batch, ii, window_size)\n",
    "            y.extend(batch_y)\n",
    "            x.extend([batch_x]*len(batch_y))\n",
    "        yield x, y\n",
    "    "
   ]
  },
  {
   "cell_type": "markdown",
   "metadata": {},
   "source": [
    "## Building the graph\n",
    "\n",
    "From [Chris McCormick's blog](http://mccormickml.com/2016/04/19/word2vec-tutorial-the-skip-gram-model/), we can see the general structure of our network.\n",
    "![embedding_network](./assets/skip_gram_net_arch.png)\n",
    "\n",
    "The input words are passed in as integers. This will go into a hidden layer of linear units, then into a softmax layer. We'll use the softmax layer to make a prediction like normal.\n",
    "\n",
    "The idea here is to train the hidden layer weight matrix to find efficient representations for our words. We can discard the softmax layer becuase we don't really care about making predictions with this network. We just want the embedding matrix so we can use it in other networks we build from the dataset.\n",
    "\n",
    "I'm going to have you build the graph in stages now. First off, creating the `inputs` and `labels` placeholders like normal.\n",
    "\n",
    "> **Exercise:** Assign `inputs` and `labels` using `tf.placeholder`. We're going to be passing in integers, so set the data types to `tf.int32`. The batches we're passing in will have varying sizes, so set the batch sizes to [`None`]. To make things work later, you'll need to set the second dimension of `labels` to `None` or `1`."
   ]
  },
  {
   "cell_type": "code",
   "execution_count": 10,
   "metadata": {},
   "outputs": [],
   "source": [
    "train_graph = tf.Graph()\n",
    "with train_graph.as_default():\n",
    "    inputs = tf.placeholder(tf.int32,[None],name='inputs')\n",
    "    labels = tf.placeholder(tf.int32,[None,None],name='labels')"
   ]
  },
  {
   "cell_type": "markdown",
   "metadata": {},
   "source": [
    "## Embedding\n",
    "\n"
   ]
  },
  {
   "cell_type": "markdown",
   "metadata": {
    "collapsed": true
   },
   "source": [
    "The embedding matrix has a size of the number of words by the number of units in the hidden layer. So, if you have 10,000 words and 300 hidden units, the matrix will have size $10,000 \\times 300$. Remember that we're using tokenized data for our inputs, usually as integers, where the number of tokens is the number of words in our vocabulary.\n",
    "\n",
    "\n",
    "> **Exercise:** Tensorflow provides a convenient function [`tf.nn.embedding_lookup`](https://www.tensorflow.org/api_docs/python/tf/nn/embedding_lookup) that does this lookup for us. You pass in the embedding matrix and a tensor of integers, then it returns rows in the matrix corresponding to those integers. Below, set the number of embedding features you'll use (200 is a good start), create the embedding matrix variable, and use `tf.nn.embedding_lookup` to get the embedding tensors. For the embedding matrix, I suggest you initialize it with a uniform random numbers between -1 and 1 using [tf.random_uniform](https://www.tensorflow.org/api_docs/python/tf/random_uniform)."
   ]
  },
  {
   "cell_type": "code",
   "execution_count": 11,
   "metadata": {},
   "outputs": [],
   "source": [
    "n_vocab = len(int_to_vocab)\n",
    "n_embedding = 200 # Number of embedding features \n",
    "with train_graph.as_default():\n",
    "    embedding = tf.Variable(tf.random_uniform((n_vocab,n_embedding),-1,1))# create embedding weight matrix here\n",
    "    embed = tf.nn.embedding_lookup(embedding,inputs)# use tf.nn.embedding_lookup to get the hidden layer output"
   ]
  },
  {
   "cell_type": "markdown",
   "metadata": {},
   "source": [
    "## Negative sampling\n",
    "\n"
   ]
  },
  {
   "cell_type": "markdown",
   "metadata": {},
   "source": [
    "For every example we give the network, we train it using the output from the softmax layer. That means for each input, we're making very small changes to millions of weights even though we only have one true example. This makes training the network very inefficient. We can approximate the loss from the softmax layer by only updating a small subset of all the weights at once. We'll update the weights for the correct label, but only a small number of incorrect labels. This is called [\"negative sampling\"](http://papers.nips.cc/paper/5021-distributed-representations-of-words-and-phrases-and-their-compositionality.pdf). Tensorflow has a convenient function to do this, [`tf.nn.sampled_softmax_loss`](https://www.tensorflow.org/api_docs/python/tf/nn/sampled_softmax_loss).\n",
    "\n",
    "> **Exercise:** Below, create weights and biases for the softmax layer. Then, use [`tf.nn.sampled_softmax_loss`](https://www.tensorflow.org/api_docs/python/tf/nn/sampled_softmax_loss) to calculate the loss. Be sure to read the documentation to figure out how it works."
   ]
  },
  {
   "cell_type": "code",
   "execution_count": 12,
   "metadata": {},
   "outputs": [],
   "source": [
    "# Number of negative labels to sample\n",
    "n_sampled = 100\n",
    "with train_graph.as_default():\n",
    "    softmax_w = tf.Variable(tf.truncated_normal((n_vocab,n_embedding),stddev=0.1))# create softmax weight matrix here\n",
    "    softmax_b = tf.Variable(tf.zeros(n_vocab))# create softmax biases here\n",
    "    \n",
    "    # Calculate the loss using negative sampling\n",
    "    loss = tf.nn.sampled_softmax_loss(softmax_w, softmax_b, \n",
    "                                      labels, embed,\n",
    "                                      n_sampled, n_vocab)\n",
    "    \n",
    "    cost = tf.reduce_mean(loss)\n",
    "    optimizer = tf.train.AdamOptimizer().minimize(cost)"
   ]
  },
  {
   "cell_type": "markdown",
   "metadata": {},
   "source": [
    "## Validation\n",
    "\n",
    "This code is from Thushan Ganegedara's implementation. Here we're going to choose a few common words and few uncommon words. Then, we'll print out the closest words to them. It's a nice way to check that our embedding table is grouping together words with similar semantic meanings."
   ]
  },
  {
   "cell_type": "code",
   "execution_count": 13,
   "metadata": {},
   "outputs": [],
   "source": [
    "with train_graph.as_default():\n",
    "    ## From Thushan Ganegedara's implementation\n",
    "    valid_size = 16 # Random set of words to evaluate similarity on.\n",
    "    valid_window = 100\n",
    "    # pick 8 samples from (0,100) and (1000,1100) each ranges. lower id implies more frequent \n",
    "    valid_examples = np.array(random.sample(range(valid_window), valid_size//2))\n",
    "    valid_examples = np.append(valid_examples, \n",
    "                               random.sample(range(1000,1000+valid_window), valid_size//2))\n",
    "\n",
    "    valid_dataset = tf.constant(valid_examples, dtype=tf.int32)\n",
    "    \n",
    "    # We use the cosine distance:\n",
    "    norm = tf.sqrt(tf.reduce_sum(tf.square(embedding), 1, keep_dims=True))\n",
    "    normalized_embedding = embedding / norm\n",
    "    valid_embedding = tf.nn.embedding_lookup(normalized_embedding, valid_dataset)\n",
    "    similarity = tf.matmul(valid_embedding, tf.transpose(normalized_embedding))"
   ]
  },
  {
   "cell_type": "code",
   "execution_count": 14,
   "metadata": {},
   "outputs": [],
   "source": [
    "# If the checkpoints directory doesn't exist:\n",
    "!mkdir checkpoints"
   ]
  },
  {
   "cell_type": "markdown",
   "metadata": {},
   "source": [
    "## Training\n",
    "\n",
    "Below is the code to train the network. Every 100 batches it reports the training loss. Every 1000 batches, it'll print out the validation words."
   ]
  },
  {
   "cell_type": "code",
   "execution_count": null,
   "metadata": {},
   "outputs": [
    {
     "name": "stdout",
     "output_type": "stream",
     "text": [
      "Epoch 1/10 Iteration: 100 Avg. Training loss: 5.6804 0.8329 sec/batch\n",
      "Epoch 1/10 Iteration: 200 Avg. Training loss: 5.6349 0.8684 sec/batch\n",
      "Epoch 1/10 Iteration: 300 Avg. Training loss: 5.4840 0.8379 sec/batch\n",
      "Epoch 1/10 Iteration: 400 Avg. Training loss: 5.5944 0.8700 sec/batch\n",
      "Epoch 1/10 Iteration: 500 Avg. Training loss: 5.5082 0.8309 sec/batch\n",
      "Epoch 1/10 Iteration: 600 Avg. Training loss: 5.5177 0.8443 sec/batch\n",
      "Epoch 1/10 Iteration: 700 Avg. Training loss: 5.5402 0.8228 sec/batch\n",
      "Epoch 1/10 Iteration: 800 Avg. Training loss: 5.5658 0.8515 sec/batch\n",
      "Epoch 1/10 Iteration: 900 Avg. Training loss: 5.4668 0.8277 sec/batch\n",
      "Epoch 1/10 Iteration: 1000 Avg. Training loss: 5.4207 0.8300 sec/batch\n",
      "Nearest to about: daikaiju, hoshea, robberies, conclude, hawick, bioterrorism, saliva, ktav,\n",
      "Nearest to on: unorganized, leonard, incontinence, alfaro, lasker, ourselves, naive, greedy,\n",
      "Nearest to these: golfer, geocachers, interdisciplinary, pendergast, aretha, cuc, wresting, migrations,\n",
      "Nearest to from: maximillian, ballistics, whigs, untouchables, infrared, farnham, heroics, compliance,\n",
      "Nearest to some: attenborough, descriptio, foodborne, potash, their, nath, clueless, forgotten,\n",
      "Nearest to their: entangled, chamberlain, iannis, orel, pallavas, distinguish, sacerdotal, invincibility,\n",
      "Nearest to the: of, voice, santorini, jakarta, accentuated, eius, discordia, credible,\n",
      "Nearest to if: tokelau, imagining, inositol, kamehameha, ziggy, spinner, minimally, ruggles,\n",
      "Nearest to mean: goff, fuerza, rebellion, armstrong, manoel, painterly, noel, electrophoretic,\n",
      "Nearest to universe: recounts, chorus, theropod, tucker, planners, statisticians, demonstrably, capability,\n",
      "Nearest to bible: quantrill, khobar, mediators, cheung, minus, evatt, alleviated, irreversible,\n",
      "Nearest to experience: principia, abkhazian, discomfort, conversational, ills, devan, totaling, smuggler,\n",
      "Nearest to governor: impart, giuliani, export, caius, horton, apg, weight, dowry,\n",
      "Nearest to notes: converges, kadena, judicially, theologian, underside, yorker, shadwell, tailoring,\n",
      "Nearest to nobel: emulates, breakdancing, astoria, bishops, touching, changed, award, capacitance,\n",
      "Nearest to centre: gully, inspector, flageolet, verse, indecent, tutuila, familjebok, novell,\n",
      "Epoch 1/10 Iteration: 1100 Avg. Training loss: 5.4812 0.8472 sec/batch\n",
      "Epoch 1/10 Iteration: 1200 Avg. Training loss: 5.3864 0.8256 sec/batch\n",
      "Epoch 1/10 Iteration: 1300 Avg. Training loss: 5.3205 0.8246 sec/batch\n",
      "Epoch 1/10 Iteration: 1400 Avg. Training loss: 5.2273 0.8355 sec/batch\n",
      "Epoch 1/10 Iteration: 1500 Avg. Training loss: 5.1837 0.8513 sec/batch\n",
      "Epoch 1/10 Iteration: 1600 Avg. Training loss: 5.1435 0.8321 sec/batch\n",
      "Epoch 1/10 Iteration: 1700 Avg. Training loss: 5.0487 0.8324 sec/batch\n",
      "Epoch 1/10 Iteration: 1800 Avg. Training loss: 5.0522 0.8346 sec/batch\n",
      "Epoch 1/10 Iteration: 1900 Avg. Training loss: 4.9798 0.8718 sec/batch\n",
      "Epoch 1/10 Iteration: 2000 Avg. Training loss: 4.9802 0.8726 sec/batch\n",
      "Nearest to about: which, daikaiju, implied, conclude, robberies, ons, cluster, electronics,\n",
      "Nearest to on: unorganized, argue, conceptual, leonard, ourselves, direction, engineer, greedy,\n",
      "Nearest to these: golfer, defining, interdisciplinary, designed, specially, analytic, real, several,\n",
      "Nearest to from: maximillian, ballistics, just, whigs, once, effect, heroics, possible,\n",
      "Nearest to some: attenborough, forgotten, their, descriptio, bc, divided, assign, foodborne,\n",
      "Nearest to their: distinguish, entangled, some, hydrogen, trek, chamberlain, sacerdotal, invincibility,\n",
      "Nearest to the: well, voice, quickly, of, roman, every, choices, highest,\n",
      "Nearest to if: call, imagining, debris, tokelau, working, encode, kamehameha, abramoff,\n",
      "Nearest to mean: goff, computer, electrophoretic, direction, rebellion, rounded, fuerza, schools,\n",
      "Nearest to universe: recounts, chorus, capability, germanic, planners, trusted, karl, theropod,\n",
      "Nearest to bible: unnecessary, quantrill, irreversible, minus, coalition, evatt, mediators, khobar,\n",
      "Nearest to experience: principia, discomfort, abkhazian, trend, minimal, taliaferro, safeguards, ills,\n",
      "Nearest to governor: impart, export, giuliani, caius, horton, weight, dowry, fronting,\n",
      "Nearest to notes: converges, underside, theologian, tailoring, judicially, guatemala, meters, kadena,\n",
      "Nearest to nobel: emulates, award, bishops, astoria, breakdancing, changed, capacitance, suggested,\n",
      "Nearest to centre: inspector, verse, gully, flageolet, plural, identities, indecent, nearly,\n",
      "Epoch 1/10 Iteration: 2100 Avg. Training loss: 4.9050 0.8790 sec/batch\n",
      "Epoch 1/10 Iteration: 2200 Avg. Training loss: 4.9139 0.8652 sec/batch\n",
      "Epoch 1/10 Iteration: 2300 Avg. Training loss: 4.8689 0.9035 sec/batch\n",
      "Epoch 1/10 Iteration: 2400 Avg. Training loss: 4.8750 0.8950 sec/batch\n",
      "Epoch 1/10 Iteration: 2500 Avg. Training loss: 4.8063 0.8667 sec/batch\n",
      "Epoch 1/10 Iteration: 2600 Avg. Training loss: 4.8313 0.9226 sec/batch\n",
      "Epoch 1/10 Iteration: 2700 Avg. Training loss: 4.7667 0.8637 sec/batch\n",
      "Epoch 1/10 Iteration: 2800 Avg. Training loss: 4.8008 0.8758 sec/batch\n",
      "Epoch 1/10 Iteration: 2900 Avg. Training loss: 4.7874 0.8903 sec/batch\n",
      "Epoch 1/10 Iteration: 3000 Avg. Training loss: 4.7698 0.8364 sec/batch\n",
      "Nearest to about: robberies, daikaiju, reporters, cluster, implied, which, maris, conclude,\n",
      "Nearest to on: unorganized, argue, midst, revision, conversations, ourselves, conceptual, domestically,\n",
      "Nearest to these: golfer, interdisciplinary, analytic, migrations, defining, geocachers, specially, afrique,\n",
      "Nearest to from: ballistics, maximillian, whigs, infrared, just, effect, untouchables, once,\n",
      "Nearest to some: attenborough, descriptio, their, foodborne, potash, divided, forgotten, assign,\n",
      "Nearest to their: entangled, trek, distinguish, iannis, resembled, eve, some, sacerdotal,\n",
      "Nearest to the: soccer, well, voice, santorini, novelties, monopolies, fastest, of,\n",
      "Nearest to if: call, tokelau, imagining, debris, andromeda, kamehameha, inositol, working,\n",
      "Nearest to mean: goff, rebellion, fuerza, disintegration, armstrong, electrophoretic, equated, dancing,\n",
      "Nearest to universe: recounts, chorus, germanic, capability, statisticians, planners, usb, recruited,\n",
      "Nearest to bible: unnecessary, quantrill, coalition, cheung, irreversible, mediators, minus, evatt,\n",
      "Nearest to experience: principia, discomfort, conversational, totaling, abkhazian, trend, minimal, ills,\n",
      "Nearest to governor: export, impart, giuliani, horton, caius, legislature, fronting, apg,\n",
      "Nearest to notes: theologian, converges, tailoring, kadena, yorker, judicially, underside, guatemala,\n",
      "Nearest to nobel: award, emulates, bishops, astoria, changed, breakdancing, velarized, syntactical,\n",
      "Nearest to centre: inspector, verse, gully, plural, flageolet, indecent, airfield, egyptians,\n",
      "Epoch 1/10 Iteration: 3100 Avg. Training loss: 4.7615 0.8835 sec/batch\n",
      "Epoch 1/10 Iteration: 3200 Avg. Training loss: 4.7432 0.8666 sec/batch\n",
      "Epoch 1/10 Iteration: 3300 Avg. Training loss: 4.7194 0.8436 sec/batch\n",
      "Epoch 1/10 Iteration: 3400 Avg. Training loss: 4.7090 0.8241 sec/batch\n",
      "Epoch 1/10 Iteration: 3500 Avg. Training loss: 4.7565 0.8374 sec/batch\n",
      "Epoch 1/10 Iteration: 3600 Avg. Training loss: 4.7250 0.8470 sec/batch\n",
      "Epoch 1/10 Iteration: 3700 Avg. Training loss: 4.7242 0.8902 sec/batch\n",
      "Epoch 1/10 Iteration: 3800 Avg. Training loss: 4.7090 0.8423 sec/batch\n",
      "Epoch 1/10 Iteration: 3900 Avg. Training loss: 4.7024 0.8832 sec/batch\n",
      "Epoch 1/10 Iteration: 4000 Avg. Training loss: 4.6645 0.8511 sec/batch\n",
      "Nearest to about: daikaiju, reporters, robberies, cluster, which, implied, hoshea, maris,\n",
      "Nearest to on: unorganized, argue, alfaro, midst, revision, lasker, nonterminal, domestically,\n",
      "Nearest to these: interdisciplinary, golfer, migrations, analytic, defining, parsed, geocachers, aretha,\n",
      "Nearest to from: ballistics, maximillian, whigs, farnham, strives, effect, infrared, counterfeit,\n",
      "Nearest to some: attenborough, descriptio, potash, foodborne, egalitarian, their, nath, divided,\n",
      "Nearest to their: entangled, distinguish, trek, iannis, eve, resembled, sacerdotal, nem,\n",
      "Nearest to the: soccer, novelties, of, jakarta, well, zetalisp, ballots, prairies,\n",
      "Nearest to if: call, tokelau, imagining, minimally, spinner, error, encode, kamehameha,\n",
      "Nearest to mean: goff, fuerza, disintegration, rebellion, dancing, outing, equated, armstrong,\n",
      "Nearest to universe: chorus, recounts, capability, statisticians, usb, germanic, demonstrably, gateways,\n",
      "Nearest to bible: quantrill, cheung, mediators, unnecessary, matilda, khobar, coalition, evatt,\n",
      "Nearest to experience: principia, discomfort, abkhazian, conversational, totaling, safeguards, devan, minimal,\n",
      "Nearest to governor: giuliani, export, impart, horton, legislature, caius, apg, fronting,\n",
      "Nearest to notes: theologian, converges, tailoring, kadena, yorker, judicially, monarchical, underside,\n",
      "Nearest to nobel: award, emulates, astoria, playwright, velarized, changed, march, births,\n",
      "Nearest to centre: inspector, verse, gully, flageolet, indecent, egyptians, disappears, novell,\n",
      "Epoch 1/10 Iteration: 4100 Avg. Training loss: 4.6839 0.8566 sec/batch\n",
      "Epoch 1/10 Iteration: 4200 Avg. Training loss: 4.7077 0.8378 sec/batch\n",
      "Epoch 1/10 Iteration: 4300 Avg. Training loss: 4.6282 0.8293 sec/batch\n",
      "Epoch 1/10 Iteration: 4400 Avg. Training loss: 4.6486 0.8274 sec/batch\n",
      "Epoch 1/10 Iteration: 4500 Avg. Training loss: 4.6276 0.8342 sec/batch\n",
      "Epoch 1/10 Iteration: 4600 Avg. Training loss: 4.6318 0.8593 sec/batch\n",
      "Epoch 2/10 Iteration: 4700 Avg. Training loss: 4.5997 0.6041 sec/batch\n",
      "Epoch 2/10 Iteration: 4800 Avg. Training loss: 4.5407 0.8500 sec/batch\n",
      "Epoch 2/10 Iteration: 4900 Avg. Training loss: 4.5274 0.8440 sec/batch\n",
      "Epoch 2/10 Iteration: 5000 Avg. Training loss: 4.4906 0.8793 sec/batch\n",
      "Nearest to about: daikaiju, reporters, robberies, implied, which, cluster, biotic, amigos,\n",
      "Nearest to on: unorganized, alfaro, lasker, argue, nonterminal, revision, messerschmitt, domestically,\n",
      "Nearest to these: interdisciplinary, golfer, analytic, migrations, geocachers, aretha, defining, parsed,\n",
      "Nearest to from: maximillian, ballistics, strives, whigs, farnham, effect, counterfeit, eloquent,\n",
      "Nearest to some: attenborough, descriptio, potash, their, foodborne, nem, assign, egalitarian,\n",
      "Nearest to their: iannis, trek, distinguish, nem, eve, some, entangled, resembled,\n",
      "Nearest to the: soccer, novelties, ballots, well, of, heathens, zetalisp, mott,\n",
      "Nearest to if: call, spinner, minimally, encode, error, tokelau, be, imagining,\n",
      "Nearest to mean: goff, fuerza, disintegration, direction, jebusites, outing, equated, indicators,\n",
      "Nearest to universe: chorus, recounts, capability, statisticians, usb, submachine, germanic, planners,\n",
      "Nearest to bible: cheung, quantrill, mediators, unnecessary, khobar, nitrogenous, vedantic, ptolemaic,\n",
      "Nearest to experience: principia, abkhazian, conversational, discomfort, devan, ills, trend, taliaferro,\n",
      "Nearest to governor: giuliani, export, impart, legislature, horton, apg, caius, willis,\n",
      "Nearest to notes: theologian, kadena, tailoring, converges, yorker, judicially, monarchical, excommunicates,\n",
      "Nearest to nobel: award, playwright, prize, emulates, astoria, march, gottlieb, laureate,\n",
      "Nearest to centre: gully, inspector, verse, egyptians, indecent, tyrannical, disappears, tutuila,\n",
      "Epoch 2/10 Iteration: 5100 Avg. Training loss: 4.4538 0.8654 sec/batch\n",
      "Epoch 2/10 Iteration: 5200 Avg. Training loss: 4.5115 0.8407 sec/batch\n",
      "Epoch 2/10 Iteration: 5300 Avg. Training loss: 4.4791 0.8260 sec/batch\n",
      "Epoch 2/10 Iteration: 5400 Avg. Training loss: 4.5397 0.8465 sec/batch\n",
      "Epoch 2/10 Iteration: 5500 Avg. Training loss: 4.5224 0.8444 sec/batch\n",
      "Epoch 2/10 Iteration: 5600 Avg. Training loss: 4.4850 0.8363 sec/batch\n",
      "Epoch 2/10 Iteration: 5700 Avg. Training loss: 4.4606 0.8567 sec/batch\n",
      "Epoch 2/10 Iteration: 5800 Avg. Training loss: 4.4001 0.8498 sec/batch\n",
      "Epoch 2/10 Iteration: 5900 Avg. Training loss: 4.4364 0.8626 sec/batch\n",
      "Epoch 2/10 Iteration: 6000 Avg. Training loss: 4.4305 0.8466 sec/batch\n",
      "Nearest to about: daikaiju, reporters, which, biotic, implied, cluster, robberies, amigos,\n",
      "Nearest to on: unorganized, lasker, nonterminal, messerschmitt, midst, argue, alfaro, semicircle,\n",
      "Nearest to these: interdisciplinary, migrations, analytic, geocachers, golfer, defining, aretha, parsed,\n",
      "Nearest to from: maximillian, ballistics, farnham, whigs, effect, strives, counterfeit, oval,\n",
      "Nearest to some: attenborough, their, potash, descriptio, nem, assign, crimes, regenerated,\n",
      "Nearest to their: some, nem, trek, witnesses, distinguish, iannis, gazing, eve,\n",
      "Nearest to the: soccer, well, cbt, novelties, chemotaxis, of, santorini, workbench,\n",
      "Nearest to if: call, be, error, minimally, inositol, spinner, encode, domains,\n",
      "Nearest to mean: goff, disintegration, fuerza, equated, jebusites, indicators, direction, painterly,\n",
      "Nearest to universe: chorus, usb, statisticians, capability, submachine, negating, germanic, restart,\n",
      "Nearest to bible: cheung, unnecessary, quantrill, mediators, ptolemaic, vedantic, samuel, nitrogenous,\n",
      "Nearest to experience: principia, conversational, abkhazian, discomfort, devan, smuggler, ills, tranquil,\n",
      "Nearest to governor: legislature, giuliani, export, impart, horton, caius, apg, fronting,\n",
      "Nearest to notes: theologian, kadena, tailoring, converges, yorker, judicially, excommunicates, monarchical,\n",
      "Nearest to nobel: award, playwright, prize, astoria, emulates, march, laureate, hampden,\n",
      "Nearest to centre: gully, inspector, tyrannical, egyptians, flageolet, verse, indecent, disappears,\n",
      "Epoch 2/10 Iteration: 6100 Avg. Training loss: 4.4171 0.9185 sec/batch\n",
      "Epoch 2/10 Iteration: 6200 Avg. Training loss: 4.4126 0.8310 sec/batch\n",
      "Epoch 2/10 Iteration: 6300 Avg. Training loss: 4.4102 0.8257 sec/batch\n",
      "Epoch 2/10 Iteration: 6400 Avg. Training loss: 4.3723 0.8476 sec/batch\n",
      "Epoch 2/10 Iteration: 6500 Avg. Training loss: 4.4336 0.8258 sec/batch\n",
      "Epoch 2/10 Iteration: 6600 Avg. Training loss: 4.4378 0.8337 sec/batch\n",
      "Epoch 2/10 Iteration: 6700 Avg. Training loss: 4.4038 0.8339 sec/batch\n",
      "Epoch 2/10 Iteration: 6800 Avg. Training loss: 4.3924 0.8923 sec/batch\n",
      "Epoch 2/10 Iteration: 6900 Avg. Training loss: 4.4342 0.9025 sec/batch\n",
      "Epoch 2/10 Iteration: 7000 Avg. Training loss: 4.3546 0.9155 sec/batch\n",
      "Nearest to about: biotic, reporters, which, gozo, daikaiju, dg, robberies, implied,\n",
      "Nearest to on: unorganized, lasker, messerschmitt, semicircle, alfaro, midst, nonterminal, revision,\n",
      "Nearest to these: interdisciplinary, migrations, geocachers, analytic, defining, golfer, dade, aretha,\n",
      "Nearest to from: maximillian, farnham, counterfeit, ballistics, effect, strives, whigs, synchronised,\n",
      "Nearest to some: attenborough, their, potash, nem, descriptio, foodborne, cleanliness, assign,\n",
      "Nearest to their: some, nem, trek, witnesses, gazing, iannis, which, distinguish,\n",
      "Nearest to the: novelties, of, chemotaxis, workbench, microevolution, well, soccer, zetalisp,\n",
      "Nearest to if: call, be, minimally, error, inositol, encode, spinner, isn,\n",
      "Nearest to mean: goff, equated, disintegration, epistemology, jebusites, geometry, indicators, fuerza,\n",
      "Nearest to universe: chorus, statisticians, usb, submachine, negating, capability, recounts, planners,\n",
      "Nearest to bible: cheung, unnecessary, ptolemaic, quantrill, mediators, vedantic, texts, salvation,\n",
      "Nearest to experience: principia, conversational, abkhazian, discomfort, devan, tranquil, ills, desmodromic,\n",
      "Nearest to governor: legislature, giuliani, export, impart, caius, horton, apg, fronting,\n",
      "Nearest to notes: kadena, theologian, tailoring, yorker, pub, converges, excommunicates, rashi,\n",
      "Nearest to nobel: award, playwright, prize, astoria, laureate, emulates, hampden, tully,\n",
      "Nearest to centre: gully, airfield, tyrannical, novell, inspector, brodsky, flageolet, tutuila,\n",
      "Epoch 2/10 Iteration: 7100 Avg. Training loss: 4.3554 0.9439 sec/batch\n",
      "Epoch 2/10 Iteration: 7200 Avg. Training loss: 4.3775 0.8412 sec/batch\n",
      "Epoch 2/10 Iteration: 7300 Avg. Training loss: 4.3431 0.8407 sec/batch\n",
      "Epoch 2/10 Iteration: 7400 Avg. Training loss: 4.3762 0.8305 sec/batch\n",
      "Epoch 2/10 Iteration: 7500 Avg. Training loss: 4.3962 0.8550 sec/batch\n",
      "Epoch 2/10 Iteration: 7600 Avg. Training loss: 4.3803 0.8629 sec/batch\n",
      "Epoch 2/10 Iteration: 7700 Avg. Training loss: 4.3791 0.8912 sec/batch\n",
      "Epoch 2/10 Iteration: 7800 Avg. Training loss: 4.3638 0.9243 sec/batch\n"
     ]
    },
    {
     "name": "stdout",
     "output_type": "stream",
     "text": [
      "Epoch 2/10 Iteration: 7900 Avg. Training loss: 4.3434 0.9226 sec/batch\n",
      "Epoch 2/10 Iteration: 8000 Avg. Training loss: 4.3212 1.1140 sec/batch\n",
      "Nearest to about: which, biotic, reporters, gozo, repatriated, implied, dg, defy,\n",
      "Nearest to on: unorganized, argue, nonterminal, alfaro, midst, messerschmitt, semicircle, lasker,\n",
      "Nearest to these: interdisciplinary, geocachers, analytic, migrations, defining, arise, facial, parsed,\n",
      "Nearest to from: maximillian, synchronised, oval, effect, counterfeit, farnham, friars, ballistics,\n",
      "Nearest to some: their, attenborough, potash, crimes, foodborne, egalitarian, assign, cleanliness,\n",
      "Nearest to their: some, witnesses, gazing, trek, westphalian, iannis, which, distinguish,\n",
      "Nearest to the: of, workbench, well, novelties, turkey, militias, microevolution, every,\n",
      "Nearest to if: call, spinner, be, isn, encode, minimally, inositol, numbers,\n",
      "Nearest to mean: goff, geometry, skipped, indicators, jebusites, equated, fuerza, disintegration,\n",
      "Nearest to universe: chorus, statisticians, usb, submachine, recounts, planners, contradicts, mythology,\n",
      "Nearest to bible: cheung, unnecessary, texts, ptolemaic, mediators, gentiles, phrase, jesus,\n",
      "Nearest to experience: principia, conversational, discomfort, abkhazian, devan, tranquil, ills, meaningfully,\n",
      "Nearest to governor: legislature, giuliani, export, caius, impart, francoist, apg, house,\n",
      "Nearest to notes: theologian, kadena, tailoring, yorker, pub, excommunicates, danmark, rashi,\n",
      "Nearest to nobel: award, playwright, prize, astoria, emulates, hampden, graf, werner,\n",
      "Nearest to centre: gully, airfield, tyrannical, inspector, brodsky, tutuila, flageolet, nearly,\n",
      "Epoch 2/10 Iteration: 8100 Avg. Training loss: 4.3469 522.3850 sec/batch\n",
      "Epoch 2/10 Iteration: 8200 Avg. Training loss: 4.2867 0.8215 sec/batch\n",
      "Epoch 2/10 Iteration: 8300 Avg. Training loss: 4.3890 0.7878 sec/batch\n",
      "Epoch 2/10 Iteration: 8400 Avg. Training loss: 4.3731 0.9487 sec/batch\n",
      "Epoch 2/10 Iteration: 8500 Avg. Training loss: 4.4062 0.8548 sec/batch\n"
     ]
    }
   ],
   "source": [
    "epochs = 10\n",
    "batch_size = 1000\n",
    "window_size = 10\n",
    "\n",
    "with train_graph.as_default():\n",
    "    saver = tf.train.Saver()\n",
    "\n",
    "with tf.Session(graph=train_graph) as sess:\n",
    "    iteration = 1\n",
    "    loss = 0\n",
    "    sess.run(tf.global_variables_initializer())\n",
    "\n",
    "    for e in range(1, epochs+1):\n",
    "        batches = get_batches(train_words, batch_size, window_size)\n",
    "        start = time.time()\n",
    "        for x, y in batches:\n",
    "            \n",
    "            feed = {inputs: x,\n",
    "                    labels: np.array(y)[:, None]}\n",
    "            train_loss, _ = sess.run([cost, optimizer], feed_dict=feed)\n",
    "            \n",
    "            loss += train_loss\n",
    "            \n",
    "            if iteration % 100 == 0: \n",
    "                end = time.time()\n",
    "                print(\"Epoch {}/{}\".format(e, epochs),\n",
    "                      \"Iteration: {}\".format(iteration),\n",
    "                      \"Avg. Training loss: {:.4f}\".format(loss/100),\n",
    "                      \"{:.4f} sec/batch\".format((end-start)/100))\n",
    "                loss = 0\n",
    "                start = time.time()\n",
    "            \n",
    "            if iteration % 1000 == 0:\n",
    "                ## From Thushan Ganegedara's implementation\n",
    "                # note that this is expensive (~20% slowdown if computed every 500 steps)\n",
    "                sim = similarity.eval()\n",
    "                for i in range(valid_size):\n",
    "                    valid_word = int_to_vocab[valid_examples[i]]\n",
    "                    top_k = 8 # number of nearest neighbors\n",
    "                    nearest = (-sim[i, :]).argsort()[1:top_k+1]\n",
    "                    log = 'Nearest to %s:' % valid_word\n",
    "                    for k in range(top_k):\n",
    "                        close_word = int_to_vocab[nearest[k]]\n",
    "                        log = '%s %s,' % (log, close_word)\n",
    "                    print(log)\n",
    "            \n",
    "            iteration += 1\n",
    "    save_path = saver.save(sess, \"checkpoints/text8.ckpt\")\n",
    "    embed_mat = sess.run(normalized_embedding)"
   ]
  },
  {
   "cell_type": "markdown",
   "metadata": {},
   "source": [
    "Restore the trained network if you need to:"
   ]
  },
  {
   "cell_type": "code",
   "execution_count": 1,
   "metadata": {},
   "outputs": [
    {
     "ename": "NameError",
     "evalue": "name 'train_graph' is not defined",
     "output_type": "error",
     "traceback": [
      "\u001b[1;31m---------------------------------------------------------------------------\u001b[0m",
      "\u001b[1;31mNameError\u001b[0m                                 Traceback (most recent call last)",
      "\u001b[1;32m<ipython-input-1-0dcc3806116a>\u001b[0m in \u001b[0;36m<module>\u001b[1;34m()\u001b[0m\n\u001b[1;32m----> 1\u001b[1;33m \u001b[1;32mwith\u001b[0m \u001b[0mtrain_graph\u001b[0m\u001b[1;33m.\u001b[0m\u001b[0mas_default\u001b[0m\u001b[1;33m(\u001b[0m\u001b[1;33m)\u001b[0m\u001b[1;33m:\u001b[0m\u001b[1;33m\u001b[0m\u001b[0m\n\u001b[0m\u001b[0;32m      2\u001b[0m     \u001b[0msaver\u001b[0m \u001b[1;33m=\u001b[0m \u001b[0mtf\u001b[0m\u001b[1;33m.\u001b[0m\u001b[0mtrain\u001b[0m\u001b[1;33m.\u001b[0m\u001b[0mSaver\u001b[0m\u001b[1;33m(\u001b[0m\u001b[1;33m)\u001b[0m\u001b[1;33m\u001b[0m\u001b[0m\n\u001b[0;32m      3\u001b[0m \u001b[1;33m\u001b[0m\u001b[0m\n\u001b[0;32m      4\u001b[0m \u001b[1;32mwith\u001b[0m \u001b[0mtf\u001b[0m\u001b[1;33m.\u001b[0m\u001b[0mSession\u001b[0m\u001b[1;33m(\u001b[0m\u001b[0mgraph\u001b[0m\u001b[1;33m=\u001b[0m\u001b[0mtrain_graph\u001b[0m\u001b[1;33m)\u001b[0m \u001b[1;32mas\u001b[0m \u001b[0msess\u001b[0m\u001b[1;33m:\u001b[0m\u001b[1;33m\u001b[0m\u001b[0m\n\u001b[0;32m      5\u001b[0m     \u001b[0msaver\u001b[0m\u001b[1;33m.\u001b[0m\u001b[0mrestore\u001b[0m\u001b[1;33m(\u001b[0m\u001b[0msess\u001b[0m\u001b[1;33m,\u001b[0m \u001b[0mtf\u001b[0m\u001b[1;33m.\u001b[0m\u001b[0mtrain\u001b[0m\u001b[1;33m.\u001b[0m\u001b[0mlatest_checkpoint\u001b[0m\u001b[1;33m(\u001b[0m\u001b[1;34m'checkpoints'\u001b[0m\u001b[1;33m)\u001b[0m\u001b[1;33m)\u001b[0m\u001b[1;33m\u001b[0m\u001b[0m\n",
      "\u001b[1;31mNameError\u001b[0m: name 'train_graph' is not defined"
     ]
    }
   ],
   "source": [
    "with train_graph.as_default():\n",
    "    saver = tf.train.Saver()\n",
    "\n",
    "with tf.Session(graph=train_graph) as sess:\n",
    "    saver.restore(sess, tf.train.latest_checkpoint('checkpoints'))\n",
    "    embed_mat = sess.run(embedding)"
   ]
  },
  {
   "cell_type": "markdown",
   "metadata": {},
   "source": [
    "## Visualizing the word vectors\n",
    "\n",
    "Below we'll use T-SNE to visualize how our high-dimensional word vectors cluster together. T-SNE is used to project these vectors into two dimensions while preserving local stucture. Check out [this post from Christopher Olah](http://colah.github.io/posts/2014-10-Visualizing-MNIST/) to learn more about T-SNE and other ways to visualize high-dimensional data."
   ]
  },
  {
   "cell_type": "code",
   "execution_count": null,
   "metadata": {
    "collapsed": true
   },
   "outputs": [],
   "source": [
    "%matplotlib inline\n",
    "%config InlineBackend.figure_format = 'retina'\n",
    "\n",
    "import matplotlib.pyplot as plt\n",
    "from sklearn.manifold import TSNE"
   ]
  },
  {
   "cell_type": "code",
   "execution_count": null,
   "metadata": {
    "collapsed": true
   },
   "outputs": [],
   "source": [
    "viz_words = 500\n",
    "tsne = TSNE()\n",
    "embed_tsne = tsne.fit_transform(embed_mat[:viz_words, :])"
   ]
  },
  {
   "cell_type": "code",
   "execution_count": null,
   "metadata": {
    "collapsed": true
   },
   "outputs": [],
   "source": [
    "fig, ax = plt.subplots(figsize=(14, 14))\n",
    "for idx in range(viz_words):\n",
    "    plt.scatter(*embed_tsne[idx, :], color='steelblue')\n",
    "    plt.annotate(int_to_vocab[idx], (embed_tsne[idx, 0], embed_tsne[idx, 1]), alpha=0.7)"
   ]
  }
 ],
 "metadata": {
  "kernelspec": {
   "display_name": "Python 3",
   "language": "python",
   "name": "python3"
  },
  "language_info": {
   "codemirror_mode": {
    "name": "ipython",
    "version": 3
   },
   "file_extension": ".py",
   "mimetype": "text/x-python",
   "name": "python",
   "nbconvert_exporter": "python",
   "pygments_lexer": "ipython3",
   "version": "3.5.4"
  }
 },
 "nbformat": 4,
 "nbformat_minor": 2
}
