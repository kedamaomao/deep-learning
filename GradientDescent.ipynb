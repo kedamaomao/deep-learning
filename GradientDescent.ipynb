{
 "cells": [
  {
   "cell_type": "markdown",
   "metadata": {},
   "source": [
    "# Implementing the Gradient Descent Algorithm\n",
    "\n",
    "In this lab, we'll implement the basic functions of the Gradient Descent algorithm to find the boundary in a small dataset. First, we'll start with some functions that will help us plot and visualize the data.\n",
    "#实现梯度下降算法。\n",
    "在这个实验室中，我们将实现梯度下降算法的基本功能，以在小数据集中找到边界。首先，我们将从一些帮助我们绘制和可视化数据的函数开始。"
   ]
  },
  {
   "cell_type": "code",
   "execution_count": 3,
   "metadata": {},
   "outputs": [],
   "source": [
    "import matplotlib.pyplot as plt\n",
    "import numpy as np\n",
    "import pandas as pd\n",
    "\n",
    "#Some helper functions for plotting and drawing lines\n",
    "\n",
    "def plot_points(X, y):\n",
    "    admitted = X[np.argwhere(y==1)]\n",
    "    rejected = X[np.argwhere(y==0)]\n",
    "    plt.scatter([s[0][0] for s in rejected], [s[0][1] for s in rejected], s = 25, color = 'blue', edgecolor = 'k')\n",
    "    plt.scatter([s[0][0] for s in admitted], [s[0][1] for s in admitted], s = 25, color = 'red', edgecolor = 'k')\n",
    "\n",
    "def display(m, b, color='g--'):\n",
    "    plt.xlim(-0.05,1.05)\n",
    "    plt.ylim(-0.05,1.05)\n",
    "    x = np.arange(-10, 10, 0.1)\n",
    "    plt.plot(x, m*x+b, color)"
   ]
  },
  {
   "cell_type": "markdown",
   "metadata": {},
   "source": [
    "## Reading and plotting the data"
   ]
  },
  {
   "cell_type": "code",
   "execution_count": 7,
   "metadata": {},
   "outputs": [
    {
     "name": "stdout",
     "output_type": "stream",
     "text": [
      "           0         1\n",
      "0   0.780510 -0.063669\n",
      "1   0.287740  0.291390\n",
      "2   0.407140  0.178780\n",
      "3   0.292300  0.421700\n",
      "4   0.509220  0.352560\n",
      "5   0.277850  0.108020\n",
      "6   0.275270  0.332230\n",
      "7   0.439990  0.312450\n",
      "8   0.335570  0.429840\n",
      "9   0.234480  0.249860\n",
      "10  0.008449  0.136580\n",
      "11  0.124190  0.335950\n",
      "12  0.256440  0.426240\n",
      "13  0.459100  0.404260\n",
      "14  0.445470  0.451170\n",
      "15  0.422180  0.201180\n",
      "16  0.495630  0.214450\n",
      "17  0.308480  0.243060\n",
      "18  0.397070  0.444380\n",
      "19  0.329450  0.392170\n",
      "20  0.407390  0.402710\n",
      "21  0.310600  0.507020\n",
      "22  0.496380  0.453840\n",
      "23  0.100730  0.320530\n",
      "24  0.699070  0.373070\n",
      "25  0.297670  0.696480\n",
      "26  0.150990  0.573410\n",
      "27  0.164270  0.277590\n",
      "28  0.332590  0.055964\n",
      "29  0.537410  0.286370\n",
      "..       ...       ...\n",
      "70  0.708760  0.967640\n",
      "71  0.691760  0.608650\n",
      "72  0.664080  0.920750\n",
      "73  0.659730  0.666660\n",
      "74  0.645740  0.568450\n",
      "75  0.896390  0.708500\n",
      "76  0.854760  0.631670\n",
      "77  0.620910  0.804240\n",
      "78  0.790570  0.561080\n",
      "79  0.589350  0.715820\n",
      "80  0.568460  0.740600\n",
      "81  0.659120  0.715480\n",
      "82  0.709380  0.740410\n",
      "83  0.591540  0.629270\n",
      "84  0.458290  0.464100\n",
      "85  0.799820  0.748470\n",
      "86  0.609740  0.547570\n",
      "87  0.681270  0.869850\n",
      "88  0.766940  0.647360\n",
      "89  0.690480  0.830580\n",
      "90  0.681220  0.965410\n",
      "91  0.732290  0.642450\n",
      "92  0.761450  0.601380\n",
      "93  0.589850  0.869550\n",
      "94  0.731450  0.745160\n",
      "95  0.770290  0.701400\n",
      "96  0.731560  0.717820\n",
      "97  0.445560  0.579910\n",
      "98  0.852750  0.859870\n",
      "99  0.519120  0.623590\n",
      "\n",
      "[100 rows x 2 columns]\n",
      "         0         1  2\n",
      "0  0.78051 -0.063669  1\n",
      "1  0.28774  0.291390  1\n",
      "2  0.40714  0.178780  1\n",
      "3  0.29230  0.421700  1\n",
      "4  0.50922  0.352560  1\n",
      "5  0.27785  0.108020  1\n",
      "6  0.27527  0.332230  1\n",
      "7  0.43999  0.312450  1\n",
      "8  0.33557  0.429840  1\n",
      "9  0.23448  0.249860  1\n"
     ]
    }
   ],
   "source": [
    "data = pd.read_csv('data.csv', header=None)\n",
    "#print(data)\n",
    "X = np.array(data[[0,1]])\n",
    "print(data[[0,1]])\n",
    "y = np.array(data[2])\n",
    "print(data[:10])\n",
    "#plot_points(X,y)\n",
    "#plt.show()"
   ]
  },
  {
   "cell_type": "markdown",
   "metadata": {},
   "source": [
    "## TODO: Implementing the basic functions\n",
    "Here is your turn to shine. Implement the following formulas, as explained in the text.\n",
    "- Sigmoid activation function\n",
    "\n",
    "$$\\sigma(x) = \\frac{1}{1+e^{-x}}$$\n",
    "\n",
    "- Output (prediction) formula\n",
    "\n",
    "$$\\hat{y} = \\sigma(w_1 x_1 + w_2 x_2 + b)$$\n",
    "\n",
    "- Error function\n",
    "\n",
    "$$Error(y, \\hat{y}) = - y \\log(\\hat{y}) - (1-y) \\log(1-\\hat{y})$$\n",
    "\n",
    "- The function that updates the weights\n",
    "\n",
    "$$ w_i \\longrightarrow w_i + \\alpha (y - \\hat{y}) x_i$$\n",
    "\n",
    "$$ b \\longrightarrow b + \\alpha (y - \\hat{y})$$"
   ]
  },
  {
   "cell_type": "code",
   "execution_count": null,
   "metadata": {
    "collapsed": true
   },
   "outputs": [],
   "source": [
    "# Implement the following functions\n",
    "import math\n",
    "# Activation (sigmoid) function\n",
    "def sigmoid(x):\n",
    "    return 1/(1 + math.exp(-x))\n",
    "\n",
    "# Output (prediction) formula\n",
    "def output_formula(features, weights, bias):\n",
    "    np.dot(eatures,weights)\n",
    "    sigmoid()\n",
    "\n",
    "# Error (log-loss) formula\n",
    "def error_formula(y, output):\n",
    "    (-y)*\n",
    "\n",
    "# Gradient descent step\n",
    "def update_weights(x, y, weights, bias, learnrate):\n",
    "    pass"
   ]
  },
  {
   "cell_type": "markdown",
   "metadata": {},
   "source": [
    "## Training function\n",
    "This function will help us iterate the gradient descent algorithm through all the data, for a number of epochs. It will also plot the data, and some of the boundary lines obtained as we run the algorithm."
   ]
  },
  {
   "cell_type": "code",
   "execution_count": null,
   "metadata": {
    "collapsed": true
   },
   "outputs": [],
   "source": [
    "np.random.seed(44)\n",
    "\n",
    "epochs = 100\n",
    "learnrate = 0.01\n",
    "\n",
    "def train(features, targets, epochs, learnrate, graph_lines=False):\n",
    "    \n",
    "    errors = []\n",
    "    n_records, n_features = features.shape\n",
    "    last_loss = None\n",
    "    weights = np.random.normal(scale=1 / n_features**.5, size=n_features)\n",
    "    bias = 0\n",
    "    for e in range(epochs):\n",
    "        del_w = np.zeros(weights.shape)\n",
    "        for x, y in zip(features, targets):\n",
    "            output = output_formula(x, weights, bias)\n",
    "            error = error_formula(y, output)\n",
    "            weights, bias = update_weights(x, y, weights, bias, learnrate)\n",
    "        \n",
    "        # Printing out the log-loss error on the training set\n",
    "        out = output_formula(features, weights, bias)\n",
    "        loss = np.mean(error_formula(targets, out))\n",
    "        errors.append(loss)\n",
    "        if e % (epochs / 10) == 0:\n",
    "            print(\"\\n========== Epoch\", e,\"==========\")\n",
    "            if last_loss and last_loss < loss:\n",
    "                print(\"Train loss: \", loss, \"  WARNING - Loss Increasing\")\n",
    "            else:\n",
    "                print(\"Train loss: \", loss)\n",
    "            last_loss = loss\n",
    "            predictions = out > 0.5\n",
    "            accuracy = np.mean(predictions == targets)\n",
    "            print(\"Accuracy: \", accuracy)\n",
    "        if graph_lines and e % (epochs / 100) == 0:\n",
    "            display(-weights[0]/weights[1], -bias/weights[1])\n",
    "            \n",
    "\n",
    "    # Plotting the solution boundary\n",
    "    plt.title(\"Solution boundary\")\n",
    "    display(-weights[0]/weights[1], -bias/weights[1], 'black')\n",
    "\n",
    "    # Plotting the data\n",
    "    plot_points(features, targets)\n",
    "    plt.show()\n",
    "\n",
    "    # Plotting the error\n",
    "    plt.title(\"Error Plot\")\n",
    "    plt.xlabel('Number of epochs')\n",
    "    plt.ylabel('Error')\n",
    "    plt.plot(errors)\n",
    "    plt.show()"
   ]
  },
  {
   "cell_type": "markdown",
   "metadata": {},
   "source": [
    "## Time to train the algorithm!\n",
    "When we run the function, we'll obtain the following:\n",
    "- 10 updates with the current training loss and accuracy\n",
    "- A plot of the data and some of the boundary lines obtained. The final one is in black. Notice how the lines get closer and closer to the best fit, as we go through more epochs.\n",
    "- A plot of the error function. Notice how it decreases as we go through more epochs."
   ]
  },
  {
   "cell_type": "code",
   "execution_count": null,
   "metadata": {
    "collapsed": true
   },
   "outputs": [],
   "source": [
    "train(X, y, epochs, learnrate, True)"
   ]
  },
  {
   "cell_type": "code",
   "execution_count": null,
   "metadata": {
    "collapsed": true
   },
   "outputs": [],
   "source": []
  },
  {
   "cell_type": "code",
   "execution_count": null,
   "metadata": {
    "collapsed": true
   },
   "outputs": [],
   "source": []
  }
 ],
 "metadata": {
  "kernelspec": {
   "display_name": "Python 3",
   "language": "python",
   "name": "python3"
  },
  "language_info": {
   "codemirror_mode": {
    "name": "ipython",
    "version": 3
   },
   "file_extension": ".py",
   "mimetype": "text/x-python",
   "name": "python",
   "nbconvert_exporter": "python",
   "pygments_lexer": "ipython3",
   "version": "3.5.4"
  }
 },
 "nbformat": 4,
 "nbformat_minor": 2
}
