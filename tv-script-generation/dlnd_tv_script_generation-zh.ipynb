{
 "cells": [
  {
   "cell_type": "markdown",
   "metadata": {},
   "source": [
    "# 生成电视剧剧本\n",
    "\n",
    "在这个项目中，你将使用 RNN 创作你自己的[《辛普森一家》](https://zh.wikipedia.org/wiki/%E8%BE%9B%E6%99%AE%E6%A3%AE%E4%B8%80%E5%AE%B6)电视剧剧本。你将会用到《辛普森一家》第 27 季中部分剧本的[数据集](https://www.kaggle.com/wcukierski/the-simpsons-by-the-data)。你创建的神经网络将为一个在 [Moe 酒馆](https://simpsonswiki.com/wiki/Moe's_Tavern)中的场景生成一集新的剧本。\n",
    "## 获取数据\n",
    "我们早已为你提供了数据。你将使用原始数据集的子集，它只包括 Moe 酒馆中的场景。数据中并不包括酒馆的其他版本，比如 “Moe 的山洞”、“燃烧的 Moe 酒馆”、“Moe 叔叔的家庭大餐”等等。"
   ]
  },
  {
   "cell_type": "code",
   "execution_count": 1,
   "metadata": {},
   "outputs": [
    {
     "name": "stdout",
     "output_type": "stream",
     "text": [
      "[YEAR DATE 1989] 漏 Twentieth Century Fox Film Corporation. All rights reserved.\n",
      "\n",
      "\n"
     ]
    }
   ],
   "source": [
    "\"\"\"\n",
    "DON'T MODIFY ANYTHING IN THIS CELL\n",
    "\"\"\"\n",
    "import helper\n",
    "\n",
    "data_dir = './data/simpsons/moes_tavern_lines.txt'\n",
    "text = helper.load_data(data_dir)\n",
    "# Ignore notice, since we don't use it for analysing the data\n",
    "print(text[:81])\n",
    "text = text[81:]"
   ]
  },
  {
   "cell_type": "markdown",
   "metadata": {},
   "source": [
    "## 探索数据\n",
    "使用 `view_sentence_range` 来查看数据的不同部分。"
   ]
  },
  {
   "cell_type": "code",
   "execution_count": 2,
   "metadata": {},
   "outputs": [
    {
     "name": "stdout",
     "output_type": "stream",
     "text": [
      "Dataset Stats\n",
      "Roughly the number of unique words: 11492\n",
      "Number of scenes: 262\n",
      "Average number of sentences in each scene: 15.248091603053435\n",
      "Number of lines: 4257\n",
      "Average number of words in each line: 11.50434578341555\n",
      "\n",
      "The sentences 0 to 10:\n",
      "Moe_Szyslak: (INTO PHONE) Moe's Tavern. Where the elite meet to drink.\n",
      "Bart_Simpson: Eh, yeah, hello, is Mike there? Last name, Rotch.\n",
      "Moe_Szyslak: (INTO PHONE) Hold on, I'll check. (TO BARFLIES) Mike Rotch. Mike Rotch. Hey, has anybody seen Mike Rotch, lately?\n",
      "Moe_Szyslak: (INTO PHONE) Listen you little puke. One of these days I'm gonna catch you, and I'm gonna carve my name on your back with an ice pick.\n",
      "Moe_Szyslak: What's the matter Homer? You're not your normal effervescent self.\n",
      "Homer_Simpson: I got my problems, Moe. Give me another one.\n",
      "Moe_Szyslak: Homer, hey, you should not drink to forget your problems.\n",
      "Barney_Gumble: Yeah, you should only drink to enhance your social skills.\n",
      "\n",
      "\n"
     ]
    }
   ],
   "source": [
    "view_sentence_range = (0, 10)\n",
    "\n",
    "\"\"\"\n",
    "DON'T MODIFY ANYTHING IN THIS CELL\n",
    "\"\"\"\n",
    "import numpy as np\n",
    "\n",
    "print('Dataset Stats')\n",
    "print('Roughly the number of unique words: {}'.format(len({word: None for word in text.split()})))\n",
    "scenes = text.split('\\n\\n')\n",
    "print('Number of scenes: {}'.format(len(scenes)))\n",
    "sentence_count_scene = [scene.count('\\n') for scene in scenes]\n",
    "print('Average number of sentences in each scene: {}'.format(np.average(sentence_count_scene)))\n",
    "\n",
    "sentences = [sentence for scene in scenes for sentence in scene.split('\\n')]\n",
    "print('Number of lines: {}'.format(len(sentences)))\n",
    "word_count_sentence = [len(sentence.split()) for sentence in sentences]\n",
    "print('Average number of words in each line: {}'.format(np.average(word_count_sentence)))\n",
    "\n",
    "print()\n",
    "print('The sentences {} to {}:'.format(*view_sentence_range))\n",
    "print('\\n'.join(text.split('\\n')[view_sentence_range[0]:view_sentence_range[1]]))"
   ]
  },
  {
   "cell_type": "markdown",
   "metadata": {},
   "source": [
    "## 实现预处理函数\n",
    "对数据集进行的第一个操作是预处理。请实现下面两个预处理函数：\n",
    "\n",
    "- 查询表\n",
    "- 标记符号的字符串\n",
    "\n",
    "### 查询表\n",
    "要创建词嵌入，你首先要将词语转换为 id。请在这个函数中创建两个字典：\n",
    "\n",
    "- 将词语转换为 id 的字典，我们称它为 `vocab_to_int`\n",
    "- 将 id 转换为词语的字典，我们称它为 `int_to_vocab`\n",
    "\n",
    "请在下面的元组中返回这些字典\n",
    " `(vocab_to_int, int_to_vocab)`"
   ]
  },
  {
   "cell_type": "code",
   "execution_count": 12,
   "metadata": {},
   "outputs": [
    {
     "name": "stdout",
     "output_type": "stream",
     "text": [
      "['Moe_Szyslak:', '(INTO', 'PHONE)', \"Moe's\", 'Tavern.', 'Where', 'the', 'elite', 'meet', 'to', 'drink.', 'Bart_Simps']\n",
      "Counter({'PHONE)': 2, '(INTO': 2, 'Moe_Szyslak:': 2, 'Mike': 2, 'meet': 1, 'Tavern.': 1, 'elite': 1, 'Hold': 1, 'name,': 1, 'Eh,': 1, \"I'll\": 1, 'Last': 1, '(TO': 1, 'Where': 1, 'BARFLIES)': 1, \"Moe's\": 1, 'yeah,': 1, 'to': 1, 'the': 1, 'drink.': 1, 'Rotch.': 1, 'hello,': 1, 'there?': 1, 'on,': 1, 'check.': 1, 'is': 1, 'Bart_Simpson:': 1})\n",
      "<built-in method get of Counter object at 0x0000027CF50971D8>\n",
      "['PHONE)', '(INTO', 'Moe_Szyslak:', 'Mike', 'meet', 'Tavern.', 'elite', 'Hold', 'name,', 'Eh,', \"I'll\", 'Last', '(TO', 'Where', 'BARFLIES)', \"Moe's\", 'yeah,', 'to', 'the', 'drink.', 'Rotch.', 'hello,', 'there?', 'on,', 'check.', 'is', 'Bart_Simpson:']\n"
     ]
    }
   ],
   "source": [
    "from collections import Counter\n",
    "print(text[:81].split()) \n",
    "word_counts = Counter(text[:200].split())\n",
    "print(word_counts)\n",
    "sorted_vocab = sorted(word_counts,key = word_counts.get,reverse=True)\n",
    "print(word_counts.get)\n",
    "print(sorted_vocab)\n",
    "vocab_to_int = {word: ii for ii,word in enumerate(sorted_vocab)}   \n",
    "   "
   ]
  },
  {
   "cell_type": "code",
   "execution_count": 3,
   "metadata": {},
   "outputs": [
    {
     "name": "stdout",
     "output_type": "stream",
     "text": [
      "Tests Passed\n"
     ]
    }
   ],
   "source": [
    "import numpy as np\n",
    "import problem_unittests as tests\n",
    "from collections import Counter\n",
    "\n",
    "def create_lookup_tables(text):\n",
    "    \"\"\"\n",
    "    Create lookup tables for vocabulary\n",
    "    :param text: The text of tv scripts split into words\n",
    "    :return: A tuple of dicts (vocab_to_int, int_to_vocab)\n",
    "    \"\"\"\n",
    "    # TODO: Implement Function\n",
    "    #word_counts = Counter(text)\n",
    "    #sorted_vocab = sorted(word_counts,key = word_counts.get,reverse=True) 排序没有必要\n",
    "    vocab = set(text)\n",
    "    vocab_to_int = {word:ii for ii,word in enumerate(vocab)}\n",
    "    int_to_vocab = {ii:word for word,ii in vocab_to_int.items()}\n",
    "    return vocab_to_int, int_to_vocab\n",
    "\n",
    "\n",
    "\"\"\"\n",
    "DON'T MODIFY ANYTHING IN THIS CELL THAT IS BELOW THIS LINE\n",
    "\"\"\"\n",
    "tests.test_create_lookup_tables(create_lookup_tables)"
   ]
  },
  {
   "cell_type": "markdown",
   "metadata": {},
   "source": [
    "### 标记符号的字符串\n",
    "我们会使用空格当作分隔符，来将剧本分割为词语数组。然而，句号和感叹号等符号使得神经网络难以分辨“再见”和“再见！”之间的区别。\n",
    "\n",
    "实现函数 `token_lookup` 来返回一个字典，这个字典用于将 “!” 等符号标记为 “||Exclamation_Mark||” 形式。为下列符号创建一个字典，其中符号为标志，值为标记。\n",
    "\n",
    "- period ( . )\n",
    "- comma ( , )\n",
    "- quotation mark ( \" )\n",
    "- semicolon ( ; )\n",
    "- exclamation mark ( ! )\n",
    "- question mark ( ? )\n",
    "- left parenthesis ( ( )\n",
    "- right parenthesis ( ) )\n",
    "- dash ( -- )\n",
    "- return ( \\n )\n",
    "\n",
    "这个字典将用于标记符号并在其周围添加分隔符（空格）。这能将符号视作单独词汇分割开来，并使神经网络更轻松地预测下一个词汇。请确保你并没有使用容易与词汇混淆的标记。与其使用 “dash” 这样的标记，试试使用“||dash||”。"
   ]
  },
  {
   "cell_type": "code",
   "execution_count": 4,
   "metadata": {},
   "outputs": [
    {
     "name": "stdout",
     "output_type": "stream",
     "text": [
      "Tests Passed\n"
     ]
    }
   ],
   "source": [
    "def token_lookup():\n",
    "    \"\"\"\n",
    "    Generate a dict to turn punctuation into a token.\n",
    "    :return: Tokenize dictionary where the key is the punctuation and the value is the token\n",
    "    \"\"\"\n",
    "    # TODO: Implement Function\n",
    "    token_map = {}\n",
    "    token_map['.']='||period||'\n",
    "    token_map[',']='||comma||'\n",
    "    token_map['\"']='||quotation_mark||'\n",
    "    token_map[';']='||semicolon||'\n",
    "    token_map['!']='||exclamation_mark||'\n",
    "    token_map['?']='||question_mark||'\n",
    "    token_map['(']='||left_parenthesis||'\n",
    "    token_map[')']='||right_parenthesis||'\n",
    "    token_map['--']='||dash||'\n",
    "    token_map['\\n']='||return||'\n",
    "    return token_map\n",
    "\n",
    "\"\"\"\n",
    "DON'T MODIFY ANYTHING IN THIS CELL THAT IS BELOW THIS LINE\n",
    "\"\"\"\n",
    "tests.test_tokenize(token_lookup)"
   ]
  },
  {
   "cell_type": "markdown",
   "metadata": {},
   "source": [
    "## 预处理并保存所有数据\n",
    "运行以下代码将预处理所有数据，并将它们保存至文件。"
   ]
  },
  {
   "cell_type": "code",
   "execution_count": 5,
   "metadata": {},
   "outputs": [],
   "source": [
    "\"\"\"\n",
    "DON'T MODIFY ANYTHING IN THIS CELL\n",
    "\"\"\"\n",
    "# Preprocess Training, Validation, and Testing Data\n",
    "helper.preprocess_and_save_data(data_dir, token_lookup, create_lookup_tables)"
   ]
  },
  {
   "cell_type": "markdown",
   "metadata": {},
   "source": [
    "# 检查点\n",
    "这是你遇到的第一个检点。如果你想要回到这个 notebook，或需要重新打开 notebook，你都可以从这里开始。预处理的数据都已经保存完毕。"
   ]
  },
  {
   "cell_type": "code",
   "execution_count": 6,
   "metadata": {},
   "outputs": [],
   "source": [
    "\"\"\"\n",
    "DON'T MODIFY ANYTHING IN THIS CELL\n",
    "\"\"\"\n",
    "import helper\n",
    "import numpy as np\n",
    "import problem_unittests as tests\n",
    "\n",
    "int_text, vocab_to_int, int_to_vocab, token_dict = helper.load_preprocess()"
   ]
  },
  {
   "cell_type": "markdown",
   "metadata": {},
   "source": [
    "## 创建神经网络\n",
    "你将通过实现下面的函数，来创造用于构建 RNN 的必要元素：\n",
    "\n",
    "- get_inputs\n",
    "- get_init\\_cell\n",
    "- get_embed\n",
    "- build_rnn\n",
    "- build_nn\n",
    "- get_batches\n",
    "\n",
    "### 检查 TensorFlow 版本并访问 GPU"
   ]
  },
  {
   "cell_type": "code",
   "execution_count": 7,
   "metadata": {},
   "outputs": [
    {
     "name": "stdout",
     "output_type": "stream",
     "text": [
      "TensorFlow Version: 1.0.0\n"
     ]
    },
    {
     "name": "stderr",
     "output_type": "stream",
     "text": [
      "D:\\anaconda3\\envs\\py3\\lib\\site-packages\\ipykernel_launcher.py:14: UserWarning: No GPU found. Please use a GPU to train your neural network.\n",
      "  \n"
     ]
    }
   ],
   "source": [
    "\"\"\"\n",
    "DON'T MODIFY ANYTHING IN THIS CELL\n",
    "\"\"\"\n",
    "from distutils.version import LooseVersion\n",
    "import warnings\n",
    "import tensorflow as tf\n",
    "\n",
    "# Check TensorFlow Version\n",
    "assert LooseVersion(tf.__version__) >= LooseVersion('1.0'), 'Please use TensorFlow version 1.0 or newer'\n",
    "print('TensorFlow Version: {}'.format(tf.__version__))\n",
    "\n",
    "# Check for a GPU\n",
    "if not tf.test.gpu_device_name():\n",
    "    warnings.warn('No GPU found. Please use a GPU to train your neural network.')\n",
    "else:\n",
    "    print('Default GPU Device: {}'.format(tf.test.gpu_device_name()))"
   ]
  },
  {
   "cell_type": "markdown",
   "metadata": {},
   "source": [
    "### 输入\n",
    "\n",
    "实现函数 `get_inputs()` 来为神经网络创建 TF 占位符。它将创建下列占位符：\n",
    "\n",
    "- 使用 [TF 占位符](https://www.tensorflow.org/api_docs/python/tf/placeholder) `name` 参量输入 \"input\" 文本占位符。\n",
    "- Targets 占位符\n",
    "- Learning Rate 占位符\n",
    "\n",
    "返回下列元组中的占位符 `(Input, Targets, LearningRate)`"
   ]
  },
  {
   "cell_type": "code",
   "execution_count": 9,
   "metadata": {},
   "outputs": [
    {
     "name": "stdout",
     "output_type": "stream",
     "text": [
      "Tests Passed\n"
     ]
    }
   ],
   "source": [
    "def get_inputs():\n",
    "    \"\"\"\n",
    "    Create TF Placeholders for input, targets, and learning rate.\n",
    "    :return: Tuple (input, targets, learning rate)\n",
    "    \"\"\"\n",
    "    # TODO: Implement Function\n",
    "    inputs = tf.placeholder(tf.int32,[None,None],name='input')\n",
    "    targets = tf.placeholder(tf.int32,[None,None],name='targets')\n",
    "    learning_rate = tf.placeholder(tf.float32,name='learning_rate')\n",
    "    return inputs, targets, learning_rate\n",
    "\n",
    "\n",
    "\"\"\"\n",
    "DON'T MODIFY ANYTHING IN THIS CELL THAT IS BELOW THIS LINE\n",
    "\"\"\"\n",
    "tests.test_get_inputs(get_inputs)"
   ]
  },
  {
   "cell_type": "markdown",
   "metadata": {},
   "source": [
    "### 创建 RNN Cell 并初始化\n",
    "\n",
    "在 [`MultiRNNCell`](https://www.tensorflow.org/api_docs/python/tf/contrib/rnn/MultiRNNCell) 中堆叠一个或多个 [`BasicLSTMCells`](https://www.tensorflow.org/api_docs/python/tf/contrib/rnn/BasicLSTMCell)\n",
    "\n",
    "- 使用 `rnn_size` 设定 RNN 大小。\n",
    "- 使用 MultiRNNCell 的 [`zero_state()`](https://www.tensorflow.org/api_docs/python/tf/contrib/rnn/MultiRNNCell#zero_state) 函数初始化 Cell 状态\n",
    "- 使用 [`tf.identity()`](https://www.tensorflow.org/api_docs/python/tf/identity) 为初始状态应用名称 \"initial_state\"\n",
    " \n",
    "\n",
    "返回 cell 和下列元组中的初始状态 `(Cell, InitialState)`"
   ]
  },
  {
   "cell_type": "code",
   "execution_count": 12,
   "metadata": {},
   "outputs": [
    {
     "name": "stdout",
     "output_type": "stream",
     "text": [
      "Tests Passed\n"
     ]
    }
   ],
   "source": [
    "def get_init_cell(batch_size, rnn_size,n_layers=2):\n",
    "    \"\"\"\n",
    "    Create an RNN Cell and initialize it.\n",
    "    :param batch_size: Size of batches\n",
    "    :param rnn_size: Size of RNNs\n",
    "    :return: Tuple (cell, initialize state)\n",
    "    \"\"\"\n",
    "    # TODO: Implement Function\n",
    "    #lstm = tf.contrib.rnn.BasicLSTMCell(rnn_size)\n",
    "    #cell = tf.contrib.rnn.MultiRNNCell([lstm])\n",
    "    #initial_state = tf.identity(cell.zero_state(batch_size,tf.float32),name='initial_state')\n",
    "    \n",
    "    def make_lstm(rnn_size):\n",
    "        return tf.contrib.rnn.BasicLSTMCell(rnn_size)\n",
    "    cell = tf.contrib.rnn.MultiRNNCell([make_lstm(rnn_size) for _ in range(n_layers)])\n",
    "    initial_state = cell.zero_state(batch_size,tf.float32)\n",
    "    initial_state = tf.identity(initial_state,name='initial_state')\n",
    "    return cell, initial_state\n",
    "\n",
    "\n",
    "\"\"\"\n",
    "DON'T MODIFY ANYTHING IN THIS CELL THAT IS BELOW THIS LINE\n",
    "\"\"\"\n",
    "tests.test_get_init_cell(get_init_cell)"
   ]
  },
  {
   "cell_type": "markdown",
   "metadata": {},
   "source": [
    "### 词嵌入\n",
    "使用 TensorFlow 将嵌入运用到 `input_data` 中。\n",
    "返回嵌入序列。"
   ]
  },
  {
   "cell_type": "code",
   "execution_count": 13,
   "metadata": {},
   "outputs": [
    {
     "name": "stdout",
     "output_type": "stream",
     "text": [
      "Tests Passed\n"
     ]
    }
   ],
   "source": [
    "def get_embed(input_data, vocab_size, embed_dim):\n",
    "    \"\"\"\n",
    "    Create embedding for <input_data>.\n",
    "    :param input_data: TF placeholder for text input.\n",
    "    :param vocab_size: Number of words in vocabulary.\n",
    "    :param embed_dim: Number of embedding dimensions\n",
    "    :return: Embedded input.\n",
    "    \"\"\"\n",
    "    # TODO: Implement Function\n",
    "    embedding = tf.Variable(tf.random_uniform((vocab_size,embed_dim),-1,1))\n",
    "    embed = tf.nn.embedding_lookup(embedding,input_data)\n",
    "    return embed\n",
    "\n",
    "\n",
    "\"\"\"\n",
    "DON'T MODIFY ANYTHING IN THIS CELL THAT IS BELOW THIS LINE\n",
    "\"\"\"\n",
    "tests.test_get_embed(get_embed)"
   ]
  },
  {
   "cell_type": "markdown",
   "metadata": {},
   "source": [
    "### 创建 RNN\n",
    "你已经在 `get_init_cell()` 函数中创建了 RNN Cell。是时候使用这个 Cell 来创建 RNN了。\n",
    "\n",
    "- 使用 [`tf.nn.dynamic_rnn()`](https://www.tensorflow.org/api_docs/python/tf/nn/dynamic_rnn) 创建 RNN\n",
    "- 使用 [`tf.identity()`](https://www.tensorflow.org/api_docs/python/tf/identity) 将名称 \"final_state\" 应用到最终状态中\n",
    "\n",
    "\n",
    "返回下列元组中的输出和最终状态`(Outputs, FinalState)`"
   ]
  },
  {
   "cell_type": "code",
   "execution_count": 14,
   "metadata": {},
   "outputs": [
    {
     "name": "stdout",
     "output_type": "stream",
     "text": [
      "Tests Passed\n"
     ]
    }
   ],
   "source": [
    "def build_rnn(cell, inputs):\n",
    "    \"\"\"\n",
    "    Create a RNN using a RNN Cell\n",
    "    :param cell: RNN Cell\n",
    "    :param inputs: Input text data\n",
    "    :return: Tuple (Outputs, Final State)\n",
    "    \"\"\"\n",
    "    # TODO: Implement Function\n",
    "    #可以把states理解为平行输出给自己的值（根据时间或序列顺序区分）outputs可以理解为向上垂直输出给其他层的单元的值\n",
    "    outputs,final_state = tf.nn.dynamic_rnn(cell,inputs,dtype=tf.float32)\n",
    "    final_state = tf.identity(final_state,name='final_state')\n",
    "    return outputs, final_state\n",
    "\n",
    "\n",
    "\"\"\"\n",
    "DON'T MODIFY ANYTHING IN THIS CELL THAT IS BELOW THIS LINE\n",
    "\"\"\"\n",
    "tests.test_build_rnn(build_rnn)"
   ]
  },
  {
   "cell_type": "markdown",
   "metadata": {},
   "source": [
    "### 构建神经网络\n",
    "应用你在上面实现的函数，来：\n",
    "\n",
    "- 使用你的 `get_embed(input_data, vocab_size, embed_dim)` 函数将嵌入应用到 `input_data` 中\n",
    "- 使用 `cell` 和你的 `build_rnn(cell, inputs)` 函数来创建 RNN\n",
    "- 应用一个完全联通线性激活和 `vocab_size` 的分层作为输出数量。\n",
    "\n",
    "返回下列元组中的 logit 和最终状态 `Logits, FinalState`"
   ]
  },
  {
   "cell_type": "code",
   "execution_count": 15,
   "metadata": {},
   "outputs": [
    {
     "name": "stdout",
     "output_type": "stream",
     "text": [
      "Tensor(\"rnn/transpose:0\", shape=(128, 5, 256), dtype=float32)\n",
      "Tests Passed\n"
     ]
    }
   ],
   "source": [
    "def build_nn(cell, rnn_size, input_data, vocab_size, embed_dim):\n",
    "    \"\"\"\n",
    "    Build part of the neural network\n",
    "    :param cell: RNN cell\n",
    "    :param rnn_size: Size of rnns\n",
    "    :param input_data: Input data\n",
    "    :param vocab_size: Vocabulary size\n",
    "    :param embed_dim: Number of embedding dimensions\n",
    "    :return: Tuple (Logits, FinalState)\n",
    "    \"\"\"\n",
    "    # TODO: Implement Function\n",
    "    embed = get_embed(input_data,vocab_size,embed_dim)\n",
    "    outputs, final_state = build_rnn(cell,embed)\n",
    "    print(outputs)\n",
    "    logits = tf.contrib.layers.fully_connected(outputs, vocab_size, activation_fn=None)\n",
    "    \n",
    "    # Use softmax to get the probabilities for predicted characters\n",
    "    return logits, final_state\n",
    "\n",
    "\n",
    "\"\"\"\n",
    "DON'T MODIFY ANYTHING IN THIS CELL THAT IS BELOW THIS LINE\n",
    "\"\"\"\n",
    "tests.test_build_nn(build_nn)"
   ]
  },
  {
   "cell_type": "markdown",
   "metadata": {},
   "source": [
    "### 批次\n",
    "\n",
    "实现 `get_batches` 来使用 `int_text` 创建输入与目标批次。这些批次应为 Numpy 数组，并具有形状 `(number of batches, 2, batch size, sequence length)`。每个批次包含两个元素：\n",
    "\n",
    "- 第一个元素为**输入**的单独批次，并具有形状 `[batch size, sequence length]`\n",
    "- 第二个元素为**目标**的单独批次，并具有形状 `[batch size, sequence length]`\n",
    "\n",
    "如果你无法在最后一个批次中填入足够数据，请放弃这个批次。\n",
    "\n",
    "例如 `get_batches([1, 2, 3, 4, 5, 6, 7, 8, 9, 10, 11, 12, 13, 14, 15], 2, 3)` 将返回下面这个 Numpy 数组："
   ]
  },
  {
   "cell_type": "code",
   "execution_count": null,
   "metadata": {},
   "outputs": [],
   "source": [
    "[\n",
    "  # First Batch\n",
    "  [\n",
    "    # Batch of Input\n",
    "    [[ 1  2  3], [ 7  8  9]],\n",
    "    # Batch of targets\n",
    "    [[ 2  3  4], [ 8  9 10]]\n",
    "  ],\n",
    " \n",
    "  # Second Batch\n",
    "  [\n",
    "    # Batch of Input\n",
    "    [[ 4  5  6], [10 11 12]],\n",
    "    # Batch of targets\n",
    "    [[ 5  6  7], [11 12 13]]\n",
    "  ]\n",
    "]"
   ]
  },
  {
   "cell_type": "code",
   "execution_count": 17,
   "metadata": {},
   "outputs": [
    {
     "name": "stdout",
     "output_type": "stream",
     "text": [
      "[[[[ 1  2  3]\n",
      "   [ 7  8  9]]\n",
      "\n",
      "  [[ 2  3  4]\n",
      "   [ 8  9 10]]]\n",
      "\n",
      "\n",
      " [[[ 4  5  6]\n",
      "   [10 11 12]]\n",
      "\n",
      "  [[ 5  6  7]\n",
      "   [11 12 13]]]]\n",
      "Tests Passed\n"
     ]
    }
   ],
   "source": [
    "def get_batches_myself(int_text, batch_size, seq_length):\n",
    "    \"\"\"\n",
    "    Return batches of input and target\n",
    "    :param int_text: Text with the words replaced by their ids\n",
    "    :param batch_size: The size of batch\n",
    "    :param seq_length: The length of sequence\n",
    "    :return: Batches as a Numpy array\n",
    "    \"\"\"\n",
    "    # TODO: Implement Function\n",
    "    chars_per_batch = batch_size*seq_length\n",
    "    n_batchs = len(int_text)//chars_per_batch\n",
    "    int_text = np.array(int_text[:n_batchs * chars_per_batch])\n",
    "    int_text = int_text.reshape((batch_size,-1))\n",
    "    batchs = np.zeros((n_batchs,2,batch_size,seq_length))\n",
    "    i=0\n",
    "    for n in range(0,int_text.shape[1],seq_length):\n",
    "        x = int_text[:,n:n+seq_length]\n",
    "        y_temp = int_text[:,n+1:n+seq_length+1] \n",
    "        y = np.zeros(x.shape, dtype=x.dtype)\n",
    "        y[:,:y_temp.shape[1]] = y_temp\n",
    "        batchs[i][0] = x\n",
    "        batchs[i][1] = y\n",
    "        i+=1\n",
    "    return batchs\n",
    "#导师\n",
    "def get_batches(int_text, batch_size, seq_length):\n",
    "    n_batches = int(len(int_text) / (batch_size * seq_length))\n",
    "    # Drop the last few characters to make only full batches\n",
    "    xdata = np.array(int_text[: n_batches * batch_size * seq_length])\n",
    "    ydata = np.array(int_text[1: n_batches * batch_size * seq_length + 1])\n",
    "    x_batches = np.split(xdata.reshape(batch_size, -1), n_batches, 1)\n",
    "    y_batches = np.split(ydata.reshape(batch_size, -1), n_batches, 1)\n",
    "    return np.array(list(zip(x_batches, y_batches)))\n",
    "\n",
    "\"\"\"\n",
    "DON'T MODIFY ANYTHING IN THIS CELL THAT IS BELOW THIS LINE\n",
    "\"\"\"\n",
    "print(get_batches([1, 2, 3, 4, 5, 6, 7, 8, 9, 10, 11, 12, 13, 14, 15], 2, 3))\n",
    "tests.test_get_batches(get_batches)"
   ]
  },
  {
   "cell_type": "markdown",
   "metadata": {},
   "source": [
    "## 神经网络训练\n",
    "### 超参数\n",
    "调整下列参数:\n",
    "\n",
    "- 将 `num_epochs` 设置为训练次数。\n",
    "- 将 `batch_size` 设置为程序组大小。\n",
    "- 将 `rnn_size` 设置为 RNN 大小。\n",
    "- 将 `embed_dim` 设置为嵌入大小。\n",
    "- 将 `seq_length` 设置为序列长度。\n",
    "- 将 `learning_rate` 设置为学习率。\n",
    "- 将 `show_every_n_batches` 设置为神经网络应输出的程序组数量。"
   ]
  },
  {
   "cell_type": "code",
   "execution_count": 18,
   "metadata": {},
   "outputs": [],
   "source": [
    "# Number of Epochs\n",
    "num_epochs = 200\n",
    "# Batch Size\n",
    "batch_size = 128\n",
    "# RNN Size\n",
    "rnn_size = 256\n",
    "# Embedding Dimension Size\n",
    "embed_dim = 300\n",
    "# Sequence Length\n",
    "seq_length = 12  #根据平均长度来设定（平均11.5）\n",
    "# Learning Rate\n",
    "learning_rate = 0.005\n",
    "# Show stats for every n number of batches\n",
    "show_every_n_batches = 25\n",
    "\n",
    "\"\"\"\n",
    "DON'T MODIFY ANYTHING IN THIS CELL THAT IS BELOW THIS LINE\n",
    "\"\"\"\n",
    "save_dir = './save'"
   ]
  },
  {
   "cell_type": "markdown",
   "metadata": {},
   "source": [
    "### 创建图表\n",
    "使用你实现的神经网络创建图表。"
   ]
  },
  {
   "cell_type": "code",
   "execution_count": 19,
   "metadata": {},
   "outputs": [
    {
     "name": "stdout",
     "output_type": "stream",
     "text": [
      "Tensor(\"rnn/transpose:0\", shape=(?, ?, 256), dtype=float32)\n"
     ]
    }
   ],
   "source": [
    "\"\"\"\n",
    "DON'T MODIFY ANYTHING IN THIS CELL\n",
    "\"\"\"\n",
    "from tensorflow.contrib import seq2seq\n",
    "\n",
    "train_graph = tf.Graph()\n",
    "with train_graph.as_default():\n",
    "    vocab_size = len(int_to_vocab)\n",
    "    input_text, targets, lr = get_inputs()\n",
    "    input_data_shape = tf.shape(input_text)\n",
    "    cell, initial_state = get_init_cell(input_data_shape[0], rnn_size)\n",
    "    logits, final_state = build_nn(cell, rnn_size, input_text, vocab_size, embed_dim)\n",
    "\n",
    "    # Probabilities for generating words\n",
    "    probs = tf.nn.softmax(logits, name='probs')\n",
    "\n",
    "    # Loss function\n",
    "    cost = seq2seq.sequence_loss(\n",
    "        logits,\n",
    "        targets,\n",
    "        tf.ones([input_data_shape[0], input_data_shape[1]]))\n",
    "\n",
    "    # Optimizer\n",
    "    optimizer = tf.train.AdamOptimizer(lr)\n",
    "\n",
    "    # Gradient Clipping\n",
    "    gradients = optimizer.compute_gradients(cost)\n",
    "    capped_gradients = [(tf.clip_by_value(grad, -1., 1.), var) for grad, var in gradients if grad is not None]\n",
    "    train_op = optimizer.apply_gradients(capped_gradients)"
   ]
  },
  {
   "cell_type": "markdown",
   "metadata": {},
   "source": [
    "## 训练\n",
    "在预处理数据中训练神经网络。如果你遇到困难，请查看这个[表格](https://discussions.udacity.com/)，看看是否有人遇到了和你一样的问题。"
   ]
  },
  {
   "cell_type": "code",
   "execution_count": 20,
   "metadata": {},
   "outputs": [
    {
     "name": "stdout",
     "output_type": "stream",
     "text": [
      "Epoch   0 Batch    0/44   train_loss = 8.823\n",
      "Epoch   0 Batch   25/44   train_loss = 6.628\n",
      "Epoch   1 Batch    6/44   train_loss = 5.950\n",
      "Epoch   1 Batch   31/44   train_loss = 6.011\n",
      "Epoch   2 Batch   12/44   train_loss = 5.733\n",
      "Epoch   2 Batch   37/44   train_loss = 5.606\n",
      "Epoch   3 Batch   18/44   train_loss = 5.303\n",
      "Epoch   3 Batch   43/44   train_loss = 5.250\n",
      "Epoch   4 Batch   24/44   train_loss = 4.910\n",
      "Epoch   5 Batch    5/44   train_loss = 4.733\n",
      "Epoch   5 Batch   30/44   train_loss = 4.803\n",
      "Epoch   6 Batch   11/44   train_loss = 4.606\n",
      "Epoch   6 Batch   36/44   train_loss = 4.595\n",
      "Epoch   7 Batch   17/44   train_loss = 4.435\n",
      "Epoch   7 Batch   42/44   train_loss = 4.336\n",
      "Epoch   8 Batch   23/44   train_loss = 4.310\n",
      "Epoch   9 Batch    4/44   train_loss = 4.053\n",
      "Epoch   9 Batch   29/44   train_loss = 4.126\n",
      "Epoch  10 Batch   10/44   train_loss = 4.075\n",
      "Epoch  10 Batch   35/44   train_loss = 3.792\n",
      "Epoch  11 Batch   16/44   train_loss = 3.877\n",
      "Epoch  11 Batch   41/44   train_loss = 3.703\n",
      "Epoch  12 Batch   22/44   train_loss = 3.651\n",
      "Epoch  13 Batch    3/44   train_loss = 3.489\n",
      "Epoch  13 Batch   28/44   train_loss = 3.429\n",
      "Epoch  14 Batch    9/44   train_loss = 3.366\n",
      "Epoch  14 Batch   34/44   train_loss = 3.220\n",
      "Epoch  15 Batch   15/44   train_loss = 3.153\n",
      "Epoch  15 Batch   40/44   train_loss = 3.096\n",
      "Epoch  16 Batch   21/44   train_loss = 2.944\n",
      "Epoch  17 Batch    2/44   train_loss = 2.873\n",
      "Epoch  17 Batch   27/44   train_loss = 2.856\n",
      "Epoch  18 Batch    8/44   train_loss = 2.731\n",
      "Epoch  18 Batch   33/44   train_loss = 2.750\n",
      "Epoch  19 Batch   14/44   train_loss = 2.547\n",
      "Epoch  19 Batch   39/44   train_loss = 2.466\n",
      "Epoch  20 Batch   20/44   train_loss = 2.354\n",
      "Epoch  21 Batch    1/44   train_loss = 2.221\n",
      "Epoch  21 Batch   26/44   train_loss = 2.177\n",
      "Epoch  22 Batch    7/44   train_loss = 2.288\n",
      "Epoch  22 Batch   32/44   train_loss = 2.048\n",
      "Epoch  23 Batch   13/44   train_loss = 1.927\n",
      "Epoch  23 Batch   38/44   train_loss = 1.868\n",
      "Epoch  24 Batch   19/44   train_loss = 1.664\n",
      "Epoch  25 Batch    0/44   train_loss = 1.720\n",
      "Epoch  25 Batch   25/44   train_loss = 1.562\n",
      "Epoch  26 Batch    6/44   train_loss = 1.591\n",
      "Epoch  26 Batch   31/44   train_loss = 1.568\n",
      "Epoch  27 Batch   12/44   train_loss = 1.654\n",
      "Epoch  27 Batch   37/44   train_loss = 1.447\n",
      "Epoch  28 Batch   18/44   train_loss = 1.400\n",
      "Epoch  28 Batch   43/44   train_loss = 1.220\n",
      "Epoch  29 Batch   24/44   train_loss = 1.175\n",
      "Epoch  30 Batch    5/44   train_loss = 1.224\n",
      "Epoch  30 Batch   30/44   train_loss = 1.110\n",
      "Epoch  31 Batch   11/44   train_loss = 1.137\n",
      "Epoch  31 Batch   36/44   train_loss = 1.053\n",
      "Epoch  32 Batch   17/44   train_loss = 0.971\n",
      "Epoch  32 Batch   42/44   train_loss = 0.996\n",
      "Epoch  33 Batch   23/44   train_loss = 0.940\n",
      "Epoch  34 Batch    4/44   train_loss = 0.926\n",
      "Epoch  34 Batch   29/44   train_loss = 0.801\n",
      "Epoch  35 Batch   10/44   train_loss = 0.855\n",
      "Epoch  35 Batch   35/44   train_loss = 0.816\n",
      "Epoch  36 Batch   16/44   train_loss = 0.817\n",
      "Epoch  36 Batch   41/44   train_loss = 0.749\n",
      "Epoch  37 Batch   22/44   train_loss = 0.758\n",
      "Epoch  38 Batch    3/44   train_loss = 0.674\n",
      "Epoch  38 Batch   28/44   train_loss = 0.693\n",
      "Epoch  39 Batch    9/44   train_loss = 0.615\n",
      "Epoch  39 Batch   34/44   train_loss = 0.615\n",
      "Epoch  40 Batch   15/44   train_loss = 0.637\n",
      "Epoch  40 Batch   40/44   train_loss = 0.561\n",
      "Epoch  41 Batch   21/44   train_loss = 0.536\n",
      "Epoch  42 Batch    2/44   train_loss = 0.610\n",
      "Epoch  42 Batch   27/44   train_loss = 0.524\n",
      "Epoch  43 Batch    8/44   train_loss = 0.465\n",
      "Epoch  43 Batch   33/44   train_loss = 0.475\n",
      "Epoch  44 Batch   14/44   train_loss = 0.475\n",
      "Epoch  44 Batch   39/44   train_loss = 0.509\n",
      "Epoch  45 Batch   20/44   train_loss = 0.446\n",
      "Epoch  46 Batch    1/44   train_loss = 0.468\n",
      "Epoch  46 Batch   26/44   train_loss = 0.456\n",
      "Epoch  47 Batch    7/44   train_loss = 0.449\n",
      "Epoch  47 Batch   32/44   train_loss = 0.462\n",
      "Epoch  48 Batch   13/44   train_loss = 0.429\n",
      "Epoch  48 Batch   38/44   train_loss = 0.387\n",
      "Epoch  49 Batch   19/44   train_loss = 0.375\n",
      "Epoch  50 Batch    0/44   train_loss = 0.378\n",
      "Epoch  50 Batch   25/44   train_loss = 0.378\n",
      "Epoch  51 Batch    6/44   train_loss = 0.363\n",
      "Epoch  51 Batch   31/44   train_loss = 0.386\n",
      "Epoch  52 Batch   12/44   train_loss = 0.399\n",
      "Epoch  52 Batch   37/44   train_loss = 0.348\n",
      "Epoch  53 Batch   18/44   train_loss = 0.352\n",
      "Epoch  53 Batch   43/44   train_loss = 0.327\n",
      "Epoch  54 Batch   24/44   train_loss = 0.333\n",
      "Epoch  55 Batch    5/44   train_loss = 0.347\n",
      "Epoch  55 Batch   30/44   train_loss = 0.350\n",
      "Epoch  56 Batch   11/44   train_loss = 0.344\n",
      "Epoch  56 Batch   36/44   train_loss = 0.339\n",
      "Epoch  57 Batch   17/44   train_loss = 0.301\n",
      "Epoch  57 Batch   42/44   train_loss = 0.335\n",
      "Epoch  58 Batch   23/44   train_loss = 0.361\n",
      "Epoch  59 Batch    4/44   train_loss = 0.328\n",
      "Epoch  59 Batch   29/44   train_loss = 0.304\n",
      "Epoch  60 Batch   10/44   train_loss = 0.336\n",
      "Epoch  60 Batch   35/44   train_loss = 0.306\n",
      "Epoch  61 Batch   16/44   train_loss = 0.352\n",
      "Epoch  61 Batch   41/44   train_loss = 0.347\n",
      "Epoch  62 Batch   22/44   train_loss = 0.336\n",
      "Epoch  63 Batch    3/44   train_loss = 0.322\n",
      "Epoch  63 Batch   28/44   train_loss = 0.335\n",
      "Epoch  64 Batch    9/44   train_loss = 0.299\n",
      "Epoch  64 Batch   34/44   train_loss = 0.304\n",
      "Epoch  65 Batch   15/44   train_loss = 0.341\n",
      "Epoch  65 Batch   40/44   train_loss = 0.297\n",
      "Epoch  66 Batch   21/44   train_loss = 0.283\n",
      "Epoch  67 Batch    2/44   train_loss = 0.350\n",
      "Epoch  67 Batch   27/44   train_loss = 0.301\n",
      "Epoch  68 Batch    8/44   train_loss = 0.277\n",
      "Epoch  68 Batch   33/44   train_loss = 0.309\n",
      "Epoch  69 Batch   14/44   train_loss = 0.314\n",
      "Epoch  69 Batch   39/44   train_loss = 0.327\n",
      "Epoch  70 Batch   20/44   train_loss = 0.280\n",
      "Epoch  71 Batch    1/44   train_loss = 0.315\n",
      "Epoch  71 Batch   26/44   train_loss = 0.336\n",
      "Epoch  72 Batch    7/44   train_loss = 0.323\n",
      "Epoch  72 Batch   32/44   train_loss = 0.336\n",
      "Epoch  73 Batch   13/44   train_loss = 0.323\n",
      "Epoch  73 Batch   38/44   train_loss = 0.295\n",
      "Epoch  74 Batch   19/44   train_loss = 0.293\n",
      "Epoch  75 Batch    0/44   train_loss = 0.297\n",
      "Epoch  75 Batch   25/44   train_loss = 0.303\n",
      "Epoch  76 Batch    6/44   train_loss = 0.296\n",
      "Epoch  76 Batch   31/44   train_loss = 0.328\n",
      "Epoch  77 Batch   12/44   train_loss = 0.332\n",
      "Epoch  77 Batch   37/44   train_loss = 0.293\n",
      "Epoch  78 Batch   18/44   train_loss = 0.302\n",
      "Epoch  78 Batch   43/44   train_loss = 0.288\n",
      "Epoch  79 Batch   24/44   train_loss = 0.295\n",
      "Epoch  80 Batch    5/44   train_loss = 0.306\n",
      "Epoch  80 Batch   30/44   train_loss = 0.316\n",
      "Epoch  81 Batch   11/44   train_loss = 0.303\n",
      "Epoch  81 Batch   36/44   train_loss = 0.308\n",
      "Epoch  82 Batch   17/44   train_loss = 0.274\n",
      "Epoch  82 Batch   42/44   train_loss = 0.310\n",
      "Epoch  83 Batch   23/44   train_loss = 0.334\n",
      "Epoch  84 Batch    4/44   train_loss = 0.304\n",
      "Epoch  84 Batch   29/44   train_loss = 0.282\n",
      "Epoch  85 Batch   10/44   train_loss = 0.312\n",
      "Epoch  85 Batch   35/44   train_loss = 0.284\n",
      "Epoch  86 Batch   16/44   train_loss = 0.328\n",
      "Epoch  86 Batch   41/44   train_loss = 0.325\n",
      "Epoch  87 Batch   22/44   train_loss = 0.318\n",
      "Epoch  88 Batch    3/44   train_loss = 0.304\n",
      "Epoch  88 Batch   28/44   train_loss = 0.321\n",
      "Epoch  89 Batch    9/44   train_loss = 0.284\n",
      "Epoch  89 Batch   34/44   train_loss = 0.290\n",
      "Epoch  90 Batch   15/44   train_loss = 0.330\n",
      "Epoch  90 Batch   40/44   train_loss = 0.287\n",
      "Epoch  91 Batch   21/44   train_loss = 0.273\n",
      "Epoch  92 Batch    2/44   train_loss = 0.337\n",
      "Epoch  92 Batch   27/44   train_loss = 0.293\n",
      "Epoch  93 Batch    8/44   train_loss = 0.269\n",
      "Epoch  93 Batch   33/44   train_loss = 0.299\n",
      "Epoch  94 Batch   14/44   train_loss = 0.303\n",
      "Epoch  94 Batch   39/44   train_loss = 0.319\n",
      "Epoch  95 Batch   20/44   train_loss = 0.270\n",
      "Epoch  96 Batch    1/44   train_loss = 0.308\n",
      "Epoch  96 Batch   26/44   train_loss = 0.326\n",
      "Epoch  97 Batch    7/44   train_loss = 0.319\n",
      "Epoch  97 Batch   32/44   train_loss = 0.330\n",
      "Epoch  98 Batch   13/44   train_loss = 0.322\n",
      "Epoch  98 Batch   38/44   train_loss = 0.294\n",
      "Epoch  99 Batch   19/44   train_loss = 0.315\n",
      "Epoch 100 Batch    0/44   train_loss = 0.618\n",
      "Epoch 100 Batch   25/44   train_loss = 1.762\n",
      "Epoch 101 Batch    6/44   train_loss = 1.964\n",
      "Epoch 101 Batch   31/44   train_loss = 1.702\n",
      "Epoch 102 Batch   12/44   train_loss = 1.433\n",
      "Epoch 102 Batch   37/44   train_loss = 1.185\n",
      "Epoch 103 Batch   18/44   train_loss = 0.968\n"
     ]
    },
    {
     "name": "stdout",
     "output_type": "stream",
     "text": [
      "Epoch 103 Batch   43/44   train_loss = 0.708\n",
      "Epoch 104 Batch   24/44   train_loss = 0.618\n",
      "Epoch 105 Batch    5/44   train_loss = 0.555\n",
      "Epoch 105 Batch   30/44   train_loss = 0.480\n",
      "Epoch 106 Batch   11/44   train_loss = 0.440\n",
      "Epoch 106 Batch   36/44   train_loss = 0.412\n",
      "Epoch 107 Batch   17/44   train_loss = 0.359\n",
      "Epoch 107 Batch   42/44   train_loss = 0.374\n",
      "Epoch 108 Batch   23/44   train_loss = 0.387\n",
      "Epoch 109 Batch    4/44   train_loss = 0.347\n",
      "Epoch 109 Batch   29/44   train_loss = 0.315\n",
      "Epoch 110 Batch   10/44   train_loss = 0.350\n",
      "Epoch 110 Batch   35/44   train_loss = 0.313\n",
      "Epoch 111 Batch   16/44   train_loss = 0.348\n",
      "Epoch 111 Batch   41/44   train_loss = 0.347\n",
      "Epoch 112 Batch   22/44   train_loss = 0.336\n",
      "Epoch 113 Batch    3/44   train_loss = 0.324\n",
      "Epoch 113 Batch   28/44   train_loss = 0.337\n",
      "Epoch 114 Batch    9/44   train_loss = 0.297\n",
      "Epoch 114 Batch   34/44   train_loss = 0.302\n",
      "Epoch 115 Batch   15/44   train_loss = 0.339\n",
      "Epoch 115 Batch   40/44   train_loss = 0.299\n",
      "Epoch 116 Batch   21/44   train_loss = 0.283\n",
      "Epoch 117 Batch    2/44   train_loss = 0.345\n",
      "Epoch 117 Batch   27/44   train_loss = 0.302\n",
      "Epoch 118 Batch    8/44   train_loss = 0.277\n",
      "Epoch 118 Batch   33/44   train_loss = 0.304\n",
      "Epoch 119 Batch   14/44   train_loss = 0.309\n",
      "Epoch 119 Batch   39/44   train_loss = 0.323\n",
      "Epoch 120 Batch   20/44   train_loss = 0.277\n",
      "Epoch 121 Batch    1/44   train_loss = 0.313\n",
      "Epoch 121 Batch   26/44   train_loss = 0.334\n",
      "Epoch 122 Batch    7/44   train_loss = 0.320\n",
      "Epoch 122 Batch   32/44   train_loss = 0.334\n",
      "Epoch 123 Batch   13/44   train_loss = 0.320\n",
      "Epoch 123 Batch   38/44   train_loss = 0.295\n",
      "Epoch 124 Batch   19/44   train_loss = 0.293\n",
      "Epoch 125 Batch    0/44   train_loss = 0.294\n",
      "Epoch 125 Batch   25/44   train_loss = 0.300\n",
      "Epoch 126 Batch    6/44   train_loss = 0.294\n",
      "Epoch 126 Batch   31/44   train_loss = 0.323\n",
      "Epoch 127 Batch   12/44   train_loss = 0.329\n",
      "Epoch 127 Batch   37/44   train_loss = 0.289\n",
      "Epoch 128 Batch   18/44   train_loss = 0.298\n",
      "Epoch 128 Batch   43/44   train_loss = 0.287\n",
      "Epoch 129 Batch   24/44   train_loss = 0.293\n",
      "Epoch 130 Batch    5/44   train_loss = 0.305\n",
      "Epoch 130 Batch   30/44   train_loss = 0.314\n",
      "Epoch 131 Batch   11/44   train_loss = 0.300\n",
      "Epoch 131 Batch   36/44   train_loss = 0.305\n",
      "Epoch 132 Batch   17/44   train_loss = 0.271\n",
      "Epoch 132 Batch   42/44   train_loss = 0.305\n",
      "Epoch 133 Batch   23/44   train_loss = 0.332\n",
      "Epoch 134 Batch    4/44   train_loss = 0.302\n",
      "Epoch 134 Batch   29/44   train_loss = 0.278\n",
      "Epoch 135 Batch   10/44   train_loss = 0.310\n",
      "Epoch 135 Batch   35/44   train_loss = 0.281\n",
      "Epoch 136 Batch   16/44   train_loss = 0.327\n",
      "Epoch 136 Batch   41/44   train_loss = 0.323\n",
      "Epoch 137 Batch   22/44   train_loss = 0.317\n",
      "Epoch 138 Batch    3/44   train_loss = 0.303\n",
      "Epoch 138 Batch   28/44   train_loss = 0.320\n",
      "Epoch 139 Batch    9/44   train_loss = 0.282\n",
      "Epoch 139 Batch   34/44   train_loss = 0.288\n",
      "Epoch 140 Batch   15/44   train_loss = 0.325\n",
      "Epoch 140 Batch   40/44   train_loss = 0.284\n",
      "Epoch 141 Batch   21/44   train_loss = 0.271\n",
      "Epoch 142 Batch    2/44   train_loss = 0.332\n",
      "Epoch 142 Batch   27/44   train_loss = 0.291\n",
      "Epoch 143 Batch    8/44   train_loss = 0.267\n",
      "Epoch 143 Batch   33/44   train_loss = 0.296\n",
      "Epoch 144 Batch   14/44   train_loss = 0.301\n",
      "Epoch 144 Batch   39/44   train_loss = 0.317\n",
      "Epoch 145 Batch   20/44   train_loss = 0.268\n",
      "Epoch 146 Batch    1/44   train_loss = 0.306\n",
      "Epoch 146 Batch   26/44   train_loss = 0.325\n",
      "Epoch 147 Batch    7/44   train_loss = 0.313\n",
      "Epoch 147 Batch   32/44   train_loss = 0.324\n",
      "Epoch 148 Batch   13/44   train_loss = 0.314\n",
      "Epoch 148 Batch   38/44   train_loss = 0.287\n",
      "Epoch 149 Batch   19/44   train_loss = 0.287\n",
      "Epoch 150 Batch    0/44   train_loss = 0.287\n",
      "Epoch 150 Batch   25/44   train_loss = 0.295\n",
      "Epoch 151 Batch    6/44   train_loss = 0.288\n",
      "Epoch 151 Batch   31/44   train_loss = 0.318\n",
      "Epoch 152 Batch   12/44   train_loss = 0.322\n",
      "Epoch 152 Batch   37/44   train_loss = 0.283\n",
      "Epoch 153 Batch   18/44   train_loss = 0.293\n",
      "Epoch 153 Batch   43/44   train_loss = 0.282\n",
      "Epoch 154 Batch   24/44   train_loss = 0.289\n",
      "Epoch 155 Batch    5/44   train_loss = 0.301\n",
      "Epoch 155 Batch   30/44   train_loss = 0.309\n",
      "Epoch 156 Batch   11/44   train_loss = 0.296\n",
      "Epoch 156 Batch   36/44   train_loss = 0.300\n",
      "Epoch 157 Batch   17/44   train_loss = 0.267\n",
      "Epoch 157 Batch   42/44   train_loss = 0.302\n",
      "Epoch 158 Batch   23/44   train_loss = 0.327\n",
      "Epoch 159 Batch    4/44   train_loss = 0.298\n",
      "Epoch 159 Batch   29/44   train_loss = 0.275\n",
      "Epoch 160 Batch   10/44   train_loss = 0.306\n",
      "Epoch 160 Batch   35/44   train_loss = 0.278\n",
      "Epoch 161 Batch   16/44   train_loss = 0.322\n",
      "Epoch 161 Batch   41/44   train_loss = 0.318\n",
      "Epoch 162 Batch   22/44   train_loss = 0.313\n",
      "Epoch 163 Batch    3/44   train_loss = 0.299\n",
      "Epoch 163 Batch   28/44   train_loss = 0.315\n",
      "Epoch 164 Batch    9/44   train_loss = 0.279\n",
      "Epoch 164 Batch   34/44   train_loss = 0.283\n",
      "Epoch 165 Batch   15/44   train_loss = 0.323\n",
      "Epoch 165 Batch   40/44   train_loss = 0.283\n",
      "Epoch 166 Batch   21/44   train_loss = 0.268\n",
      "Epoch 167 Batch    2/44   train_loss = 0.328\n",
      "Epoch 167 Batch   27/44   train_loss = 0.289\n",
      "Epoch 168 Batch    8/44   train_loss = 0.264\n",
      "Epoch 168 Batch   33/44   train_loss = 0.291\n",
      "Epoch 169 Batch   14/44   train_loss = 0.296\n",
      "Epoch 169 Batch   39/44   train_loss = 0.312\n",
      "Epoch 170 Batch   20/44   train_loss = 0.265\n",
      "Epoch 171 Batch    1/44   train_loss = 0.303\n",
      "Epoch 171 Batch   26/44   train_loss = 0.324\n",
      "Epoch 172 Batch    7/44   train_loss = 0.310\n",
      "Epoch 172 Batch   32/44   train_loss = 0.323\n",
      "Epoch 173 Batch   13/44   train_loss = 0.312\n",
      "Epoch 173 Batch   38/44   train_loss = 0.285\n",
      "Epoch 174 Batch   19/44   train_loss = 0.284\n",
      "Epoch 175 Batch    0/44   train_loss = 0.284\n",
      "Epoch 175 Batch   25/44   train_loss = 0.290\n",
      "Epoch 176 Batch    6/44   train_loss = 0.285\n",
      "Epoch 176 Batch   31/44   train_loss = 0.315\n",
      "Epoch 177 Batch   12/44   train_loss = 0.319\n",
      "Epoch 177 Batch   37/44   train_loss = 0.280\n",
      "Epoch 178 Batch   18/44   train_loss = 0.290\n",
      "Epoch 178 Batch   43/44   train_loss = 0.281\n",
      "Epoch 179 Batch   24/44   train_loss = 0.286\n",
      "Epoch 180 Batch    5/44   train_loss = 0.298\n",
      "Epoch 180 Batch   30/44   train_loss = 0.307\n",
      "Epoch 181 Batch   11/44   train_loss = 0.293\n",
      "Epoch 181 Batch   36/44   train_loss = 0.298\n",
      "Epoch 182 Batch   17/44   train_loss = 0.264\n",
      "Epoch 182 Batch   42/44   train_loss = 0.299\n",
      "Epoch 183 Batch   23/44   train_loss = 0.330\n",
      "Epoch 184 Batch    4/44   train_loss = 0.296\n",
      "Epoch 184 Batch   29/44   train_loss = 0.273\n",
      "Epoch 185 Batch   10/44   train_loss = 0.304\n",
      "Epoch 185 Batch   35/44   train_loss = 0.275\n",
      "Epoch 186 Batch   16/44   train_loss = 0.319\n",
      "Epoch 186 Batch   41/44   train_loss = 0.317\n",
      "Epoch 187 Batch   22/44   train_loss = 0.312\n",
      "Epoch 188 Batch    3/44   train_loss = 0.298\n",
      "Epoch 188 Batch   28/44   train_loss = 0.317\n",
      "Epoch 189 Batch    9/44   train_loss = 0.281\n",
      "Epoch 189 Batch   34/44   train_loss = 0.303\n",
      "Epoch 190 Batch   15/44   train_loss = 0.631\n",
      "Epoch 190 Batch   40/44   train_loss = 1.733\n",
      "Epoch 191 Batch   21/44   train_loss = 1.928\n",
      "Epoch 192 Batch    2/44   train_loss = 1.654\n",
      "Epoch 192 Batch   27/44   train_loss = 1.406\n",
      "Epoch 193 Batch    8/44   train_loss = 1.169\n",
      "Epoch 193 Batch   33/44   train_loss = 0.979\n",
      "Epoch 194 Batch   14/44   train_loss = 0.718\n",
      "Epoch 194 Batch   39/44   train_loss = 0.686\n",
      "Epoch 195 Batch   20/44   train_loss = 0.527\n",
      "Epoch 196 Batch    1/44   train_loss = 0.502\n",
      "Epoch 196 Batch   26/44   train_loss = 0.457\n",
      "Epoch 197 Batch    7/44   train_loss = 0.422\n",
      "Epoch 197 Batch   32/44   train_loss = 0.406\n",
      "Epoch 198 Batch   13/44   train_loss = 0.372\n",
      "Epoch 198 Batch   38/44   train_loss = 0.338\n",
      "Epoch 199 Batch   19/44   train_loss = 0.316\n",
      "Model Trained and Saved\n"
     ]
    }
   ],
   "source": [
    "\"\"\"\n",
    "DON'T MODIFY ANYTHING IN THIS CELL\n",
    "\"\"\"\n",
    "batches = get_batches(int_text, batch_size, seq_length)\n",
    "\n",
    "with tf.Session(graph=train_graph) as sess:\n",
    "    sess.run(tf.global_variables_initializer())\n",
    "\n",
    "    for epoch_i in range(num_epochs):\n",
    "        state = sess.run(initial_state, {input_text: batches[0][0]})\n",
    "\n",
    "        for batch_i, (x, y) in enumerate(batches):\n",
    "            feed = {\n",
    "                input_text: x,\n",
    "                targets: y,\n",
    "                initial_state: state,\n",
    "                lr: learning_rate}\n",
    "            train_loss, state, _ = sess.run([cost, final_state, train_op], feed)\n",
    "\n",
    "            # Show every <show_every_n_batches> batches\n",
    "            if (epoch_i * len(batches) + batch_i) % show_every_n_batches == 0:\n",
    "                print('Epoch {:>3} Batch {:>4}/{}   train_loss = {:.3f}'.format(\n",
    "                    epoch_i,\n",
    "                    batch_i,\n",
    "                    len(batches),\n",
    "                    train_loss))\n",
    "\n",
    "    # Save Model\n",
    "    saver = tf.train.Saver()\n",
    "    saver.save(sess, save_dir)\n",
    "    print('Model Trained and Saved')"
   ]
  },
  {
   "cell_type": "markdown",
   "metadata": {},
   "source": [
    "## 储存参数\n",
    "储存 `seq_length` 和 `save_dir` 来生成新的电视剧剧本。"
   ]
  },
  {
   "cell_type": "code",
   "execution_count": 21,
   "metadata": {},
   "outputs": [],
   "source": [
    "\"\"\"\n",
    "DON'T MODIFY ANYTHING IN THIS CELL\n",
    "\"\"\"\n",
    "# Save parameters for checkpoint\n",
    "helper.save_params((seq_length, save_dir))"
   ]
  },
  {
   "cell_type": "markdown",
   "metadata": {},
   "source": [
    "# 检查点"
   ]
  },
  {
   "cell_type": "code",
   "execution_count": 22,
   "metadata": {},
   "outputs": [],
   "source": [
    "\"\"\"\n",
    "DON'T MODIFY ANYTHING IN THIS CELL\n",
    "\"\"\"\n",
    "import tensorflow as tf\n",
    "import numpy as np\n",
    "import helper\n",
    "import problem_unittests as tests\n",
    "\n",
    "_, vocab_to_int, int_to_vocab, token_dict = helper.load_preprocess()\n",
    "seq_length, load_dir = helper.load_params()"
   ]
  },
  {
   "cell_type": "markdown",
   "metadata": {},
   "source": [
    "## 实现生成函数\n",
    "### 获取 Tensors\n",
    "使用 [`get_tensor_by_name()`](https://www.tensorflow.org/api_docs/python/tf/Graph#get_tensor_by_name)函数从 `loaded_graph` 中获取 tensor。  使用下面的名称获取 tensor：\n",
    "\n",
    "- \"input:0\"\n",
    "- \"initial_state:0\"\n",
    "- \"final_state:0\"\n",
    "- \"probs:0\"\n",
    "\n",
    "返回下列元组中的 tensor `(InputTensor, InitialStateTensor, FinalStateTensor, ProbsTensor)`"
   ]
  },
  {
   "cell_type": "code",
   "execution_count": 23,
   "metadata": {},
   "outputs": [
    {
     "name": "stdout",
     "output_type": "stream",
     "text": [
      "Tests Passed\n"
     ]
    }
   ],
   "source": [
    "def get_tensors(loaded_graph):\n",
    "    \"\"\"\n",
    "    Get input, initial state, final state, and probabilities tensor from <loaded_graph>\n",
    "    :param loaded_graph: TensorFlow graph loaded from file\n",
    "    :return: Tuple (InputTensor, InitialStateTensor, FinalStateTensor, ProbsTensor)\n",
    "    \"\"\"\n",
    "    # TODO: Implement Function\n",
    "    InputTensor = loaded_graph.get_tensor_by_name('input:0')\n",
    "    InitialStateTensor = loaded_graph.get_tensor_by_name('initial_state:0')\n",
    "    FinalStateTensor = loaded_graph.get_tensor_by_name('final_state:0')\n",
    "    ProbsTensor = loaded_graph.get_tensor_by_name('probs:0')\n",
    "    return InputTensor, InitialStateTensor, FinalStateTensor, ProbsTensor\n",
    "\n",
    "\n",
    "\"\"\"\n",
    "DON'T MODIFY ANYTHING IN THIS CELL THAT IS BELOW THIS LINE\n",
    "\"\"\"\n",
    "tests.test_get_tensors(get_tensors)"
   ]
  },
  {
   "cell_type": "markdown",
   "metadata": {},
   "source": [
    "### 选择词汇\n",
    "实现 `pick_word()` 函数来使用 `probabilities` 选择下一个词汇。"
   ]
  },
  {
   "cell_type": "code",
   "execution_count": 24,
   "metadata": {},
   "outputs": [
    {
     "name": "stdout",
     "output_type": "stream",
     "text": [
      "Tests Passed\n"
     ]
    }
   ],
   "source": [
    "def pick_word(probabilities, int_to_vocab):\n",
    "    \"\"\"\n",
    "    Pick the next word in the generated text\n",
    "    :param probabilities: Probabilites of the next word\n",
    "    :param int_to_vocab: Dictionary of word ids as the keys and words as the values\n",
    "    :return: String of the predicted word\n",
    "    \"\"\"\n",
    "    # TODO: Implement Function\n",
    "    #return int_to_vocab[np.argmax(probabilities)]\n",
    "    return np.random.choice(list(int_to_vocab.values()), 1, p=probabilities)[0] #加入一些随机性\n",
    "   \n",
    "\n",
    "\n",
    "\"\"\"\n",
    "DON'T MODIFY ANYTHING IN THIS CELL THAT IS BELOW THIS LINE\n",
    "\"\"\"\n",
    "tests.test_pick_word(pick_word)"
   ]
  },
  {
   "cell_type": "markdown",
   "metadata": {},
   "source": [
    "## 生成电视剧剧本\n",
    "这将为你生成一个电视剧剧本。通过设置 `gen_length` 来调整你想生成的剧本长度。"
   ]
  },
  {
   "cell_type": "code",
   "execution_count": 26,
   "metadata": {},
   "outputs": [
    {
     "name": "stdout",
     "output_type": "stream",
     "text": [
      "moe_szyslak: here it is, mr. murdoch?\n",
      "homer_simpson:(explaining) moe, i'll give her what?\n",
      "moe_szyslak: well, well, if anything would turn a free beer?\n",
      "barney_gumble: wow, this little nice moe..\n",
      "barney_gumble: i'm a tipsy sound, kid.\n",
      "moe_szyslak:(realizing) i can't believe nothin', don't never see, and he does the place that boy with you, and i can love you, eh?\n",
      "homer_simpson:(sings) good thing of bein' a second bar\" will. and then a man in this little best minutes there?\n",
      "moe_szyslak: uh, what you want to hang? i'm not the money face, moe?\n",
      "barney_gumble: well, so i think no? i think i find the springfield dumbest pugilist was love so if i just wanna just get here for gonna have to have a lot of that was an indigenous pipe all gettin' this way.\n",
      "duffman: is wait tonight, three, how about you, lenny.(to be with homer) who makes him them like that\n"
     ]
    }
   ],
   "source": [
    "gen_length = 200\n",
    "# homer_simpson, moe_szyslak, or Barney_Gumble\n",
    "prime_word = 'moe_szyslak'\n",
    "\n",
    "\"\"\"\n",
    "DON'T MODIFY ANYTHING IN THIS CELL THAT IS BELOW THIS LINE\n",
    "\"\"\"\n",
    "loaded_graph = tf.Graph()\n",
    "with tf.Session(graph=loaded_graph) as sess:\n",
    "    # Load saved model\n",
    "    loader = tf.train.import_meta_graph(load_dir + '.meta')\n",
    "    loader.restore(sess, load_dir)\n",
    "\n",
    "    # Get Tensors from loaded model\n",
    "    input_text, initial_state, final_state, probs = get_tensors(loaded_graph)\n",
    "\n",
    "    # Sentences generation setup\n",
    "    gen_sentences = [prime_word + ':']\n",
    "    prev_state = sess.run(initial_state, {input_text: np.array([[1]])})\n",
    "\n",
    "    # Generate sentences\n",
    "    for n in range(gen_length):\n",
    "        # Dynamic Input\n",
    "        dyn_input = [[vocab_to_int[word] for word in gen_sentences[-seq_length:]]]\n",
    "        dyn_seq_length = len(dyn_input[0])\n",
    "\n",
    "        # Get Prediction\n",
    "        probabilities, prev_state = sess.run(\n",
    "            [probs, final_state],\n",
    "            {input_text: dyn_input, initial_state: prev_state})\n",
    "        \n",
    "        pred_word = pick_word(probabilities[dyn_seq_length-1], int_to_vocab)\n",
    "\n",
    "        gen_sentences.append(pred_word)\n",
    "    \n",
    "    # Remove tokens\n",
    "    tv_script = ' '.join(gen_sentences)\n",
    "    for key, token in token_dict.items():\n",
    "        ending = ' ' if key in ['\\n', '(', '\"'] else ''\n",
    "        tv_script = tv_script.replace(' ' + token.lower(), key)\n",
    "    tv_script = tv_script.replace('\\n ', '\\n')\n",
    "    tv_script = tv_script.replace('( ', '(')\n",
    "        \n",
    "    print(tv_script)"
   ]
  },
  {
   "cell_type": "markdown",
   "metadata": {},
   "source": [
    "# 这个电视剧剧本是无意义的\n",
    "如果这个电视剧剧本毫无意义，那也没有关系。我们的训练文本不到一兆字节。为了获得更好的结果，你需要使用更小的词汇范围或是更多数据。幸运的是，我们的确拥有更多数据！在本项目开始之初我们也曾提过，这是[另一个数据集](https://www.kaggle.com/wcukierski/the-simpsons-by-the-data)的子集。我们并没有让你基于所有数据进行训练，因为这将耗费大量时间。然而，你可以随意使用这些数据训练你的神经网络。当然，是在完成本项目之后。\n",
    "# 提交项目\n",
    "在提交项目时，请确保你在保存 notebook 前运行了所有的单元格代码。请将 notebook 文件保存为 \"dlnd_tv_script_generation.ipynb\"，并将它作为 HTML 文件保存在 \"File\" -> \"Download as\" 中。请将 \"helper.py\" 和 \"problem_unittests.py\" 文件一并提交。"
   ]
  },
  {
   "cell_type": "code",
   "execution_count": null,
   "metadata": {},
   "outputs": [],
   "source": []
  }
 ],
 "metadata": {
  "kernelspec": {
   "display_name": "Python 3",
   "language": "python",
   "name": "python3"
  },
  "language_info": {
   "codemirror_mode": {
    "name": "ipython",
    "version": 3
   },
   "file_extension": ".py",
   "mimetype": "text/x-python",
   "name": "python",
   "nbconvert_exporter": "python",
   "pygments_lexer": "ipython3",
   "version": "3.5.4"
  }
 },
 "nbformat": 4,
 "nbformat_minor": 2
}
